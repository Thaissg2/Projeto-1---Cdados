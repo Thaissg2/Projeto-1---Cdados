{
 "cells": [
  {
   "cell_type": "markdown",
   "metadata": {},
   "source": [
    "# Projeto 1 - Ciência dos Dados"
   ]
  },
  {
   "cell_type": "markdown",
   "metadata": {},
   "source": [
    "Nome: Beatriz Bobrow Bozzo\n",
    "\n",
    "Nome: Rodrigo Nigri Griner\n",
    "\n",
    "Nome: Thais Sztamfater Groberman"
   ]
  },
  {
   "cell_type": "markdown",
   "metadata": {},
   "source": [
    "**Atenção:** Serão permitidos grupos de três pessoas, mas com uma rubrica mais exigente. Grupos deste tamanho precisarão fazer um questionário de avaliação de trabalho em equipe"
   ]
  },
  {
   "cell_type": "markdown",
   "metadata": {},
   "source": [
    "___\n",
    "Carregando algumas bibliotecas:"
   ]
  },
  {
   "cell_type": "code",
   "execution_count": 1,
   "metadata": {},
   "outputs": [],
   "source": [
    "%matplotlib inline\n",
    "import pandas as pd\n",
    "import matplotlib.pyplot as plt\n",
    "import numpy as np\n",
    "import os"
   ]
  },
  {
   "cell_type": "markdown",
   "metadata": {},
   "source": [
    "**Em `filename`, coloque o nome do seu arquivo de dados!**"
   ]
  },
  {
   "cell_type": "code",
   "execution_count": 2,
   "metadata": {
    "scrolled": false
   },
   "outputs": [
    {
     "name": "stdout",
     "output_type": "stream",
     "text": [
      "Encontrei o arquivo Nike.xlsx, tudo certo para prosseguir com a prova!\n"
     ]
    }
   ],
   "source": [
    "import os\n",
    "\n",
    "filename = 'Nike.xlsx'\n",
    "if filename in os.listdir():\n",
    "    print(f'Encontrei o arquivo {filename}, tudo certo para prosseguir com a prova!')\n",
    "else:\n",
    "    print(f'Não encontrei o arquivo {filename} aqui no diretório {os.getcwd()}, será que você não baixou o arquivo?')"
   ]
  },
  {
   "cell_type": "markdown",
   "metadata": {},
   "source": [
    "Carregando a base de dados com os tweets classificados como relevantes e não relevantes:"
   ]
  },
  {
   "cell_type": "code",
   "execution_count": 3,
   "metadata": {},
   "outputs": [
    {
     "data": {
      "text/html": [
       "<div>\n",
       "<style scoped>\n",
       "    .dataframe tbody tr th:only-of-type {\n",
       "        vertical-align: middle;\n",
       "    }\n",
       "\n",
       "    .dataframe tbody tr th {\n",
       "        vertical-align: top;\n",
       "    }\n",
       "\n",
       "    .dataframe thead th {\n",
       "        text-align: right;\n",
       "    }\n",
       "</style>\n",
       "<table border=\"1\" class=\"dataframe\">\n",
       "  <thead>\n",
       "    <tr style=\"text-align: right;\">\n",
       "      <th></th>\n",
       "      <th>Treinamento</th>\n",
       "      <th>Classificação</th>\n",
       "    </tr>\n",
       "  </thead>\n",
       "  <tbody>\n",
       "    <tr>\n",
       "      <td>0</td>\n",
       "      <td>peguei o busao logo com um mlk mo gato trajadi...</td>\n",
       "      <td>Elogio</td>\n",
       "    </tr>\n",
       "    <tr>\n",
       "      <td>1</td>\n",
       "      <td>@fabiotalhari @zikab38 é o fotógrafo do marcel...</td>\n",
       "      <td>Indiferente</td>\n",
       "    </tr>\n",
       "    <tr>\n",
       "      <td>2</td>\n",
       "      <td>pelo menos meu nike air force 1 branco tam 41 ...</td>\n",
       "      <td>Elogio</td>\n",
       "    </tr>\n",
       "    <tr>\n",
       "      <td>3</td>\n",
       "      <td>@heinekenbr @backtothewar @vicebrasil @nike es...</td>\n",
       "      <td>Crítica</td>\n",
       "    </tr>\n",
       "    <tr>\n",
       "      <td>4</td>\n",
       "      <td>queria outro tênis da nike, mas aq em jequié n...</td>\n",
       "      <td>Crítica</td>\n",
       "    </tr>\n",
       "  </tbody>\n",
       "</table>\n",
       "</div>"
      ],
      "text/plain": [
       "                                         Treinamento Classificação\n",
       "0  peguei o busao logo com um mlk mo gato trajadi...        Elogio\n",
       "1  @fabiotalhari @zikab38 é o fotógrafo do marcel...   Indiferente\n",
       "2  pelo menos meu nike air force 1 branco tam 41 ...        Elogio\n",
       "3  @heinekenbr @backtothewar @vicebrasil @nike es...       Crítica\n",
       "4  queria outro tênis da nike, mas aq em jequié n...       Crítica"
      ]
     },
     "execution_count": 3,
     "metadata": {},
     "output_type": "execute_result"
    }
   ],
   "source": [
    "train = pd.read_excel(filename)\n",
    "train.head(5)"
   ]
  },
  {
   "cell_type": "code",
   "execution_count": 4,
   "metadata": {},
   "outputs": [
    {
     "data": {
      "text/html": [
       "<div>\n",
       "<style scoped>\n",
       "    .dataframe tbody tr th:only-of-type {\n",
       "        vertical-align: middle;\n",
       "    }\n",
       "\n",
       "    .dataframe tbody tr th {\n",
       "        vertical-align: top;\n",
       "    }\n",
       "\n",
       "    .dataframe thead th {\n",
       "        text-align: right;\n",
       "    }\n",
       "</style>\n",
       "<table border=\"1\" class=\"dataframe\">\n",
       "  <thead>\n",
       "    <tr style=\"text-align: right;\">\n",
       "      <th></th>\n",
       "      <th>Teste</th>\n",
       "      <th>Classificação</th>\n",
       "    </tr>\n",
       "  </thead>\n",
       "  <tbody>\n",
       "    <tr>\n",
       "      <td>0</td>\n",
       "      <td>@vicebrasil @nike @heinekenbr cortem seus patr...</td>\n",
       "      <td>Crítica</td>\n",
       "    </tr>\n",
       "    <tr>\n",
       "      <td>1</td>\n",
       "      <td>várias camisas de time por 100 conto no site d...</td>\n",
       "      <td>Elogio</td>\n",
       "    </tr>\n",
       "    <tr>\n",
       "      <td>2</td>\n",
       "      <td>@heinekenbr @backtothewar @vicebrasil @nike le...</td>\n",
       "      <td>Indiferente</td>\n",
       "    </tr>\n",
       "    <tr>\n",
       "      <td>3</td>\n",
       "      <td>@millenaolv com ele te sequestrando</td>\n",
       "      <td>Indiferente</td>\n",
       "    </tr>\n",
       "    <tr>\n",
       "      <td>4</td>\n",
       "      <td>vou essa semana no shopping pegar meu tênis da...</td>\n",
       "      <td>Elogio</td>\n",
       "    </tr>\n",
       "  </tbody>\n",
       "</table>\n",
       "</div>"
      ],
      "text/plain": [
       "                                               Teste Classificação\n",
       "0  @vicebrasil @nike @heinekenbr cortem seus patr...       Crítica\n",
       "1  várias camisas de time por 100 conto no site d...        Elogio\n",
       "2  @heinekenbr @backtothewar @vicebrasil @nike le...   Indiferente\n",
       "3                @millenaolv com ele te sequestrando   Indiferente\n",
       "4  vou essa semana no shopping pegar meu tênis da...        Elogio"
      ]
     },
     "execution_count": 4,
     "metadata": {},
     "output_type": "execute_result"
    }
   ],
   "source": [
    "test = pd.read_excel(filename, sheet_name = 'Teste')\n",
    "test.head(5)"
   ]
  },
  {
   "cell_type": "markdown",
   "metadata": {},
   "source": [
    "___\n",
    "## Classificador automático de sentimento\n"
   ]
  },
  {
   "cell_type": "markdown",
   "metadata": {},
   "source": [
    "Consideramos como elogios os tweets que comentam pontos positivos da marca, assim como a classificação de crítica classifica os tweets com comentários negativos sobre a marca. Por fim, os classificados com indiferente são aqueles que não fazem críticas, nem elogios apenas comentários citando a Nike."
   ]
  },
  {
   "cell_type": "markdown",
   "metadata": {},
   "source": [
    "___\n",
    "# Montando um Classificador Naive-Bayes\n",
    "\n",
    "Considerando apenas as mensagens da planilha Treinamento, ensine  seu classificador."
   ]
  },
  {
   "cell_type": "markdown",
   "metadata": {},
   "source": [
    "Inicialmente, vamos definir uma função que irá limpar os tweets para que a análise não seja comprometida."
   ]
  },
  {
   "cell_type": "code",
   "execution_count": 33,
   "metadata": {},
   "outputs": [],
   "source": [
    "import re\n",
    "\n",
    "def cleanup(text):\n",
    "    \"\"\"\n",
    "        Função de limpeza muito simples que troca alguns sinais básicos por espaços\n",
    "    \"\"\"\n",
    "    #import string\n",
    "    punctuation = '[!-.:?;&…]' # Note que os sinais [] são delimitadores de um conjunto.\n",
    "    pattern = re.compile(punctuation)\n",
    "    text_subbed = re.sub(pattern, '', text)\n",
    "    user = r'@\\w+'\n",
    "    pattern_2 = re.compile(user)\n",
    "    text_subbed= re.sub( pattern_2,'', text)\n",
    "    \n",
    "    \n",
    "    return text_subbed"
   ]
  },
  {
   "cell_type": "markdown",
   "metadata": {},
   "source": [
    "Vamos separar cada tweet da sessão de Treinamento devido a sua classificação adicionando uma nova tabela."
   ]
  },
  {
   "cell_type": "code",
   "execution_count": 34,
   "metadata": {},
   "outputs": [],
   "source": [
    "elogio = train['Classificação'] == 'Elogio'\n",
    "critica = train['Classificação'] == 'Crítica'\n",
    "indiferente = train['Classificação'] == 'Indiferente'\n",
    "\n",
    "train_elogio = train.loc[elogio, :]\n",
    "train_critica = train.loc[critica,:]\n",
    "train_indiferente = train.loc[indiferente, :]"
   ]
  },
  {
   "cell_type": "code",
   "execution_count": 35,
   "metadata": {},
   "outputs": [
    {
     "data": {
      "text/plain": [
       "Indiferente    0.374\n",
       "Elogio         0.364\n",
       "Crítica        0.262\n",
       "Name: Classificação, dtype: float64"
      ]
     },
     "execution_count": 35,
     "metadata": {},
     "output_type": "execute_result"
    }
   ],
   "source": [
    "prob_geral= train['Classificação'].value_counts(True)\n",
    "prob_geral"
   ]
  },
  {
   "cell_type": "code",
   "execution_count": 36,
   "metadata": {},
   "outputs": [
    {
     "name": "stdout",
     "output_type": "stream",
     "text": [
      "A probabilidade de ser indiferente é: 0.374!\n",
      "A probabilidade de ser elogio é: 0.364!\n",
      "A probabilidade de ser crítica é: 0.262!\n"
     ]
    }
   ],
   "source": [
    "# Vamos adicionar as probabilidades de ser elogio, crítica ou indiferente em diferentes variáveis!\n",
    "prob_indiferente = prob_geral[0]\n",
    "prob_elogio = prob_geral[1]\n",
    "prob_critica = prob_geral[2]\n",
    "\n",
    "# Lista com as probabilidades\n",
    "lista_prob_geral = [prob_elogio, prob_indiferente, prob_critica]\n",
    "\n",
    "print('A probabilidade de ser indiferente é: {0}!'.format(prob_indiferente))\n",
    "print('A probabilidade de ser elogio é: {0}!'.format(prob_elogio))\n",
    "print('A probabilidade de ser crítica é: {0}!'.format(prob_critica))"
   ]
  },
  {
   "cell_type": "markdown",
   "metadata": {},
   "source": [
    "___\n",
    "## Tabela de frequências: Indiferente"
   ]
  },
  {
   "cell_type": "markdown",
   "metadata": {},
   "source": [
    "Para iniciar, vamos adicionar numa string todas as palavras dos tweets classificados como indiferente:"
   ]
  },
  {
   "cell_type": "code",
   "execution_count": 37,
   "metadata": {},
   "outputs": [
    {
     "data": {
      "text/plain": [
       "['é',\n",
       " 'o',\n",
       " 'fotógrafo',\n",
       " 'do',\n",
       " 'marcelo',\n",
       " 'd2',\n",
       " 'fábio,',\n",
       " 'faz',\n",
       " 'trabalhos',\n",
       " 'tbm',\n",
       " 'para',\n",
       " 'heineken',\n",
       " 'e',\n",
       " 'nike...',\n",
       " 'n',\n",
       " 'sabem',\n",
       " 'nem',\n",
       " 'que',\n",
       " 'existem',\n",
       " 'mts']"
      ]
     },
     "execution_count": 37,
     "metadata": {},
     "output_type": "execute_result"
    }
   ],
   "source": [
    "string_indiferente = ''\n",
    "for i in train_indiferente['Treinamento']:\n",
    "    string_indiferente += i\n",
    "    \n",
    "# Limpando as strings com a função clean up e separando-as em uma lista para facilitar a contagem!\n",
    "cleanup_string_indiferente = cleanup(string_indiferente.lower())\n",
    "todas_palavras_indiferente = cleanup_string_indiferente.split()\n",
    "\n",
    "# Observando essa string com todas as palavras\n",
    "todas_palavras_indiferente[0:20]"
   ]
  },
  {
   "cell_type": "markdown",
   "metadata": {},
   "source": [
    "Agora, vamos construir a tabela de frequência absoluta para as palavras de cada tweet classificado. Primeiramente vamos converter os tweets (strings contendo o texto completo) em objetos do tipo `pd.Series`, nos quais cada elemento é uma palavra."
   ]
  },
  {
   "cell_type": "code",
   "execution_count": 38,
   "metadata": {},
   "outputs": [
    {
     "data": {
      "text/plain": [
       "0                   é\n",
       "1                   o\n",
       "2           fotógrafo\n",
       "3                  do\n",
       "4             marcelo\n",
       "            ...      \n",
       "2826     atitudes....\n",
       "2827                o\n",
       "2828    comportamento\n",
       "2829            nunca\n",
       "2830       mente!!!!🤐\n",
       "Length: 2831, dtype: object"
      ]
     },
     "execution_count": 38,
     "metadata": {},
     "output_type": "execute_result"
    }
   ],
   "source": [
    "serie_indiferente = pd.Series(todas_palavras_indiferente)\n",
    "serie_indiferente"
   ]
  },
  {
   "cell_type": "code",
   "execution_count": 39,
   "metadata": {},
   "outputs": [
    {
     "data": {
      "text/plain": [
       "de            83\n",
       "nike          77\n",
       "da            71\n",
       "e             65\n",
       "que           63\n",
       "              ..\n",
       "enquanto       1\n",
       "sabem          1\n",
       "tb,            1\n",
       "pega           1\n",
       "bonitinho,     1\n",
       "Length: 1318, dtype: int64"
      ]
     },
     "execution_count": 39,
     "metadata": {},
     "output_type": "execute_result"
    }
   ],
   "source": [
    "# Frequência absoluta das palavras indiferentes\n",
    "freq_abs_indiferente = serie_indiferente.value_counts()\n",
    "freq_abs_indiferente"
   ]
  },
  {
   "cell_type": "markdown",
   "metadata": {},
   "source": [
    "## Tabela de frequências: Elogio"
   ]
  },
  {
   "cell_type": "markdown",
   "metadata": {},
   "source": [
    "Para iniciar, vamos adicionar numa string todas as palavras dos tweets classificados como elogio:"
   ]
  },
  {
   "cell_type": "code",
   "execution_count": 40,
   "metadata": {},
   "outputs": [
    {
     "data": {
      "text/plain": [
       "['peguei',\n",
       " 'o',\n",
       " 'busao',\n",
       " 'logo',\n",
       " 'com',\n",
       " 'um',\n",
       " 'mlk',\n",
       " 'mo',\n",
       " 'gato',\n",
       " 'trajadinho',\n",
       " 'de',\n",
       " 'um',\n",
       " 'conjunto',\n",
       " 'da',\n",
       " 'nike',\n",
       " 'vintage',\n",
       " 'pqppelo',\n",
       " 'menos',\n",
       " 'meu',\n",
       " 'nike']"
      ]
     },
     "execution_count": 40,
     "metadata": {},
     "output_type": "execute_result"
    }
   ],
   "source": [
    "string_elogio = ''\n",
    "for i in train_elogio['Treinamento']:\n",
    "    string_elogio += i\n",
    "\n",
    "# Limpando as strings com a função clean up e separando-as em uma lista para facilitar a contagem!\n",
    "cleanup_string_elogio = cleanup(string_elogio.lower())\n",
    "todas_palavras_elogio = cleanup_string_elogio.split()\n",
    "\n",
    "\n",
    "# Observando essa string com todas as palavras\n",
    "todas_palavras_elogio[0:20]"
   ]
  },
  {
   "cell_type": "markdown",
   "metadata": {},
   "source": [
    "Agora, vamos construir a tabela de frequência absoluta para as palavras de cada tweet classificado. Primeiramente vamos converter os tweets (strings contendo o texto completo) em objetos do tipo `pd.Series`, nos quais cada elemento é uma palavra."
   ]
  },
  {
   "cell_type": "code",
   "execution_count": 41,
   "metadata": {},
   "outputs": [
    {
     "data": {
      "text/plain": [
       "0         peguei\n",
       "1              o\n",
       "2          busao\n",
       "3           logo\n",
       "4            com\n",
       "          ...   \n",
       "2194         que\n",
       "2195       vende\n",
       "2196         uns\n",
       "2197        nike\n",
       "2198    nervoso?\n",
       "Length: 2199, dtype: object"
      ]
     },
     "execution_count": 41,
     "metadata": {},
     "output_type": "execute_result"
    }
   ],
   "source": [
    "serie_elogio = pd.Series(todas_palavras_elogio)\n",
    "serie_elogio"
   ]
  },
  {
   "cell_type": "code",
   "execution_count": 42,
   "metadata": {},
   "outputs": [
    {
     "data": {
      "text/plain": [
       "nike                         137\n",
       "da                           105\n",
       "de                            57\n",
       "é                             43\n",
       "que                           41\n",
       "                            ... \n",
       "beltrão                        1\n",
       "https://t.co/9d9h5ltymzrt      1\n",
       "41                             1\n",
       "sistema                        1\n",
       "adidasqueria                   1\n",
       "Length: 905, dtype: int64"
      ]
     },
     "execution_count": 42,
     "metadata": {},
     "output_type": "execute_result"
    }
   ],
   "source": [
    "# Frequência absoluta das palavras elogio\n",
    "freq_abs_elogio = serie_elogio.value_counts()\n",
    "freq_abs_elogio"
   ]
  },
  {
   "cell_type": "markdown",
   "metadata": {},
   "source": [
    "## Tabela de frequências: Crítica"
   ]
  },
  {
   "cell_type": "markdown",
   "metadata": {},
   "source": [
    "Para iniciar, vamos adicionar numa string todas as palavras dos tweets classificados como elogio:"
   ]
  },
  {
   "cell_type": "code",
   "execution_count": 43,
   "metadata": {},
   "outputs": [
    {
     "data": {
      "text/plain": [
       "['peguei',\n",
       " 'o',\n",
       " 'busao',\n",
       " 'logo',\n",
       " 'com',\n",
       " 'um',\n",
       " 'mlk',\n",
       " 'mo',\n",
       " 'gato',\n",
       " 'trajadinho',\n",
       " 'de',\n",
       " 'um',\n",
       " 'conjunto',\n",
       " 'da',\n",
       " 'nike',\n",
       " 'vintage',\n",
       " 'pqppelo',\n",
       " 'menos',\n",
       " 'meu',\n",
       " 'nike']"
      ]
     },
     "execution_count": 43,
     "metadata": {},
     "output_type": "execute_result"
    }
   ],
   "source": [
    "string_critica = ''\n",
    "for i in train_critica['Treinamento']:\n",
    "    string_critica += i\n",
    "\n",
    "# Limpando as strings com a função clean up e separando-as em uma lista para facilitar a contagem!\n",
    "cleanup_string_critica = cleanup(string_critica.lower())\n",
    "todas_palavras_critica = cleanup_string_critica.split()\n",
    "\n",
    "# Observando essa string com todas as palavras\n",
    "todas_palavras_elogio[0:20]"
   ]
  },
  {
   "cell_type": "markdown",
   "metadata": {},
   "source": [
    "Agora, vamos construir a tabela de frequência absoluta para as palavras de cada tweet classificado. Primeiramente vamos converter os tweets (strings contendo o texto completo) em objetos do tipo `pd.Series`, nos quais cada elemento é uma palavra."
   ]
  },
  {
   "cell_type": "code",
   "execution_count": 44,
   "metadata": {},
   "outputs": [
    {
     "data": {
      "text/plain": [
       "0       escrever\n",
       "1              é\n",
       "2           bom.\n",
       "3            mas\n",
       "4       atitudes\n",
       "          ...   \n",
       "1819        amo,\n",
       "1820         mas\n",
       "1821        este\n",
       "1822         não\n",
       "1823          dá\n",
       "Length: 1824, dtype: object"
      ]
     },
     "execution_count": 44,
     "metadata": {},
     "output_type": "execute_result"
    }
   ],
   "source": [
    "serie_critica = pd.Series(todas_palavras_critica)\n",
    "serie_critica"
   ]
  },
  {
   "cell_type": "code",
   "execution_count": 45,
   "metadata": {},
   "outputs": [
    {
     "data": {
      "text/plain": [
       "nike                       90\n",
       "da                         61\n",
       "de                         50\n",
       "que                        46\n",
       "e                          40\n",
       "                           ..\n",
       "paguei                      1\n",
       "fizesse                     1\n",
       "https://t.co/ltfo0emhvz     1\n",
       "assinou                     1\n",
       "kk                          1\n",
       "Length: 740, dtype: int64"
      ]
     },
     "execution_count": 45,
     "metadata": {},
     "output_type": "execute_result"
    }
   ],
   "source": [
    "# Frequência absoluta das palavras críticas\n",
    "freq_abs_critica = serie_critica.value_counts()\n",
    "freq_abs_critica"
   ]
  },
  {
   "cell_type": "markdown",
   "metadata": {},
   "source": [
    "Queremos descobrir a probabilidade de uma palavra ocorrer nos tweets. Para isso, vamos assumir que a probabilidade de uma palavra ocorrer em um tweet é independente da probabilidade de qualquer outra palavra. Assim, assumindo independência, **a probabilidade do tweet é igual ao produto das probabilidades de cada palavra individualmente**.\n",
    "\n",
    "## Tabela de frequências: Tweets\n",
    "Vamos observar as frequências das palavras juntando todos os tweets!"
   ]
  },
  {
   "cell_type": "code",
   "execution_count": 46,
   "metadata": {},
   "outputs": [
    {
     "data": {
      "text/plain": [
       "['peguei',\n",
       " 'o',\n",
       " 'busao',\n",
       " 'logo',\n",
       " 'com',\n",
       " 'um',\n",
       " 'mlk',\n",
       " 'mo',\n",
       " 'gato',\n",
       " 'trajadinho',\n",
       " 'de',\n",
       " 'um',\n",
       " 'conjunto',\n",
       " 'da',\n",
       " 'nike',\n",
       " 'vintage',\n",
       " 'pqp',\n",
       " 'é',\n",
       " 'o',\n",
       " 'fotógrafo']"
      ]
     },
     "execution_count": 46,
     "metadata": {},
     "output_type": "execute_result"
    }
   ],
   "source": [
    "string_tweets = ''\n",
    "for i in train['Treinamento']:\n",
    "    string_tweets += i\n",
    "\n",
    "# Limpando as strings com a função clean up e separando-as em uma lista para facilitar a contagem!\n",
    "cleanup_string_tweets = cleanup(string_tweets.lower())\n",
    "todas_palavras_tweets = cleanup_string_tweets.split()\n",
    "\n",
    "# Observando essa string com todas as palavras\n",
    "todas_palavras_tweets[0:20]"
   ]
  },
  {
   "cell_type": "markdown",
   "metadata": {},
   "source": [
    "Agora, vamos construir a tabela de frequência absoluta para as palavras de cada tweet classificado. Primeiramente vamos converter os tweets (strings contendo o texto completo) em objetos do tipo `pd.Series`, nos quais cada elemento é uma palavra."
   ]
  },
  {
   "cell_type": "code",
   "execution_count": 47,
   "metadata": {},
   "outputs": [
    {
     "data": {
      "text/plain": [
       "0       peguei\n",
       "1            o\n",
       "2        busao\n",
       "3         logo\n",
       "4          com\n",
       "         ...  \n",
       "6849      amo,\n",
       "6850       mas\n",
       "6851      este\n",
       "6852       não\n",
       "6853        dá\n",
       "Length: 6854, dtype: object"
      ]
     },
     "execution_count": 47,
     "metadata": {},
     "output_type": "execute_result"
    }
   ],
   "source": [
    "serie_tweets = pd.Series(todas_palavras_tweets)\n",
    "serie_tweets"
   ]
  },
  {
   "cell_type": "code",
   "execution_count": 48,
   "metadata": {},
   "outputs": [
    {
     "data": {
      "text/plain": [
       "nike         309\n",
       "da           237\n",
       "de           190\n",
       "que          150\n",
       "e            142\n",
       "            ... \n",
       "gaveta         1\n",
       "manga          1\n",
       "gastando       1\n",
       "rj             1\n",
       "campanhas      1\n",
       "Length: 2315, dtype: int64"
      ]
     },
     "execution_count": 48,
     "metadata": {},
     "output_type": "execute_result"
    }
   ],
   "source": [
    "# Frequência absoluta dos tweets gerais\n",
    "freq_abs_tweets = serie_tweets.value_counts()\n",
    "freq_abs_tweets"
   ]
  },
  {
   "cell_type": "markdown",
   "metadata": {},
   "source": [
    "___\n",
    "## Contagem geral das palavras"
   ]
  },
  {
   "cell_type": "markdown",
   "metadata": {},
   "source": [
    "Para calcular as probabilidades das frases, vamos utilizar o **Teorema de Naive-Bayes**. Esse teorema é muito útill quando estamos trabalhando com probabilidades condicionais porque nos fornece uma maneira de revertê-las. Ele é dado por:\n",
    "\n",
    "$$P(A|B)=\\frac{P(B|A)P(A)}{P(B)}$$\n",
    "\n",
    "No caso do nosso classificador teremos:\n",
    "\n",
    "$$P(Elogio|tweet)=\\frac{P(tweet|Elogio)P(Elogio)}{P(tweet)}$$\n",
    "\n",
    "$$P(Indiferente|tweet)=\\frac{P(tweet|Indiferente)P(Indiferente)}{P(tweet)}$$\n",
    "\n",
    "$$P(Crítica|tweet)=\\frac{P(tweet|Crítica)P(Crítica)}{P(tweet)}$$\n",
    "\n",
    "Para o nosso classificador, precisamos identificar qual classificação (elogio, crítica e indiferente) terá a maior probabilidade e compará-las. Por isso, iremos considerar:\n",
    "\n",
    "$$P(Elogio|tweet)={P(tweet|Elogio)P(Elogio)}$$\n",
    "\n",
    "$$P(Indiferente|tweet)={P(tweet|Indiferente)P(Indiferente)}$$\n",
    "\n",
    "$$P(Crítica|tweet)={P(tweet|Crítica)P(Crítica)}$$\n",
    "\n",
    "Utilizando Naive-Bayes, partimos do pressuposti que cada palavra na sentença será **independente** das outras. Ou seja, estamos olhando apenas para as palavras individualmente e não para a ordem em que elas estão posicionadas. Precisaremos calcular a probabilidade de cada palavra ocorrer dada sua classificação.\n",
    "\n",
    "\n",
    "_EXEMPLO_\n",
    "\n",
    "Dado o tweet:\n",
    "\n",
    "              \"vou essa semana no shopping pegar meu tênis da nike\"\n",
    "\n",
    "\n",
    "Vamos calcular a probabilidade de cada palavra dado que é elogio, dado que é indiferente e, por fim, dado que é crítica.\n",
    "\n",
    "$$P(Elogio|tweet) = P(vou|Elogio)P(essa|Elogio)P(no|Elogio)P(shopping|Elogio)P(pegar|Elogio)P(meu|Elogio)P(tênis|Elogio)P(da|Elogio)P(nike|Elogio)P(Elogio)$$\n",
    "\n",
    "Esse processo se repetirá para Indiferente e Crítica!\n",
    "\n",
    "Após calcular todas as probabilidades dos tweets, vamos comparar e ver qual é a maior probabilidade. A **maior probabilidade** irá classificar esse tweet!\n",
    "\n",
    "Agora, vamos juntar as informações das frequências absolutas das palavras da nossa base de Treinamento e, a partir delas, montar dicionários com a palavra e quantas vezes ela aparece.\n",
    "\n",
    "\n",
    "Primeiro, vamos montar um **DICIONÁRIO ELOGIO** que terá como chaves, as palavras encontradas nos tweets de elogio, e como valores as contagens dessas palavras, ou seja, quantas vezes elas aparecem.\n"
   ]
  },
  {
   "cell_type": "code",
   "execution_count": 21,
   "metadata": {
    "scrolled": false
   },
   "outputs": [
    {
     "name": "stdout",
     "output_type": "stream",
     "text": [
      "{'nike': 137, 'da': 105, 'de': 57, 'é': 43, 'que': 41, 'e': 37, 'eu': 33, 'o': 32, 'um': 31, 'a': 27, 'na': 27, 'no': 25, ':': 24, 'com': 23, 'tênis': 23, 'pra': 21, 'site': 17, 'uma': 17, 'em': 17, 'q': 15, 'do': 15, 'tá': 15, 'me': 15, 'não': 15, 'só': 14, 'mais': 14, 'comprar': 13, 'meu': 13, 'se': 12, 'nike,': 10, 'tem': 10, 'os': 10, 'to': 10, 'ou': 9, 'por': 9, 'uns': 8, 'promoção': 8, 'as': 7, 'ao': 7, 'desconto': 7, 'essa': 7, '2': 7, 'mas': 7, 'minha': 7, 'air': 7, 'tenis': 6, 'n': 6, 'adidas': 6, 'tão': 6, 'quero': 6, 'ir': 5, 'ainda': 5, 'compra': 5, 'até': 5, 'dinheiro': 5, 'agora': 5, 'aqui': 5, 'dos': 5, 'p': 5, 'kit': 5, 'melhor': 5, 'force': 4, 'pq': 4, 'tudo': 4, 'pelo': 4, 'camisa': 4, 'como': 4, 'linda': 4, 'vou': 4, 'ta': 4, 'já': 4, 'reais': 4, 'dias': 4, 'vendo': 4, 'jordan': 4, 'ser': 4, 'comprei': 4, 'queria': 4, 'esse': 4, 'nada': 4, 'dura': 4, 'difícil': 3, 'te': 3, 'nao': 3, 'promo': 3, 'vida': 3, 'pé': 3, 'menos': 3, 'alguem': 3, 'dia': 3, 'coisa': 3, 'vc': 3, 'muito': 3, 'são': 3, 'nikert': 3, 'moletom': 3, 'ai': 3, 'sem': 3, 'roupa': 3, 'nos': 3, 'conjunto': 3, 'deus': 3, 'isso': 3, 'quem': 3, 'sei': 3, '3': 3, 'vontade': 3, 'ela': 3, 'vai': 3, 'tenho': 3, 'umas': 3, 'seu': 3, 'coisas': 3, 'pai': 3, 'novo': 3, 'olho': 3, 'dela': 3, 'sabe': 3, 'gastar': 3, 'loja': 3, 'adidas,': 3, '65%': 3, 'conta': 3, 'nike.': 3, 'for': 3, 'amigo': 3, 'd': 3, 'c': 3, 'ele': 3, 'conto': 2, 'pescoço,': 2, 'vapormax': 2, 'patrocínio': 2, 'vocês': 2, 'lindo': 2, 'qualquer': 2, 'sb': 2, 'tbm': 2, 'chegou': 2, 'cabeça': 2, 'dunk': 2, 'nem': 2, 'vi': 2, 'comigo': 2, 'romeu': 2, 'esperava': 2, 'manda': 2, 'parabéns': 2, 'lacoste,': 2, 'longa': 2, 'frete': 2, 'gente': 2, 'fica': 2, 'patrocina': 2, 'falo': 2, 'sou': 2, 'outro': 2, 'trabalhar': 2, 'calça': 2, 'eh': 2, 'coleção': 2, 'mesmo,': 2, 'falou': 2, 'vê': 2, 'igual': 2, '(': 2, 'faz': 2, 'sai': 2, 'úteis': 2, 'running': 2, 'problema': 2, 'branca': 2, 'merda': 2, 'todo': 2, 'anos': 2, 'muita': 2, 'bermuda': 2, 'pqp': 2, 'aniversário': 2, 'outras': 2, 'prefere': 2, 'sempre': 2, 'tanto': 2, 'estão': 2, 'feliz': 2, 'digo': 2, 'cheio': 2, 'imploro': 2, 'andar': 2, 'dois': 2, 'entrega:': 2, 'menina': 2, 'pela': 2, 'marca': 2, 'camisas': 2, 'nikeeu': 2, 'boné,': 2, 'ativo': 2, 'triste': 2, 'preciso': 2, 'tenha': 2, 'né': 2, 'poder': 2, '5': 2, 'gato': 2, 'foda': 2, 'aí': 2, 'fiz': 2, 'kkk': 2, 'baratinho': 2, 'ganhando': 2, 'djonga,': 2, 'tempo': 2, 'puma': 2, 'quer': 2, 'tira': 2, 'para': 2, 'presente': 2, 'bom': 2, 'vez': 2, 'vim': 2, 'aquela': 2, '1': 2, 'lá': 2, 'junto': 2, 'nike....': 2, 'nunca': 2, 'está': 2, 'neymar': 2, 'trajado': 2, 'medo': 2, 'pés': 2, 'qnd': 2, 'tipo': 2, 'produto': 2, '🤣🤣🤣🥳pelo': 1, 'cartões': 1, 'deixei': 1, 'lançar': 1, 'desassistidos': 1, 'cordão': 1, 'peção': 1, 'nikequero': 1, 'kkkkkkkrt': 1, 'infantil': 1, 'shoock': 1, 'comprou': 1, 'tinha': 1, 'estético': 1, 'metade': 1, '😂😂😂alguém': 1, 'molas': 1, 'https://t.co/4zgfqt5jjoum': 1, 'violência': 1, 'boulos': 1, 'https://t.co/ahbkiwjqvnquerendo': 1, 'comercial': 1, 'ai,': 1, 'desistort': 1, '\\U0001f971❤piso': 1, 'https://t.co/wv5mwwiz0w“nike': 1, 'semana': 1, 'pedalar,': 1, 'tou': 1, 'https://t.co/jaszafmmckrt': 1, 'metcon': 1, 'adidas?': 1, 'https://t.co/evun6snrzdsite': 1, 'pobresite': 1, 'bunda': 1, 'dividir': 1, 'inferno': 1, '!': 1, 'promo!!!!': 1, 'https://t.co/tx6m1calzn': 1, '18/09.': 1, 'única': 1, 'negativa?': 1, 'https://t.co/a2kpzwhb29': 1, '🥵': 1, 'll': 1, 'shox,': 1, 'ridiculo': 1, '🚀🤦🏻\\u200d♂️': 1, 'reclamações': 1, 'amortecimento': 1, 'fotógrafo.': 1, 'roubo': 1, 'boné': 1, 'td': 1, 'caindo': 1, 'problemas!': 1, 'calças': 1, 'tecido': 1, 'paypal': 1, 'hoje': 1, 'https://t.co/lhqd3hv0l1': 1, 'clothing': 1, '?': 1, 'próximo!rt': 1, 'fazer': 1, 'escolhendo': 1, 'arrepiado': 1, 'x': 1, 'pequena': 1, 'ouvindo': 1, 'bate': 1, 'obrigadacomprei': 1, 'usa': 1, 'https://t.co/y0p6ebvotxcamisa': 1, 'ong': 1, 'hjna': 1, 'terei': 1, 'cupom': 1, 'imã': 1, 'mil,': 1, 'qm': 1, 'daqui': 1, 'comprando': 1, 'compro': 1, 'mínimo': 1, 'fooooda': 1, 'resolverestiloso': 1, '🤣': 1, 'nadinha': 1, 'mlk': 1, 'porrar': 1, 'dela,': 1, 'momento': 1, 'topzin': 1, '0': 1, 'lacoste': 1, 'drogaamo': 1, 'doq': 1, 'pensando': 1, 'preço': 1, 'vídeo,': 1, 'história': 1, 'tentação': 1, 'foda.': 1, 'corpinho': 1, 'https://t.co/g4hxhvvfdbnão': 1, 'caran,': 1, 'la': 1, 'treino': 1, 'dando': 1, 'finalizar': 1, 'merece': 1, 'https://t.co/6i0jqugixr': 1, 'outravlh': 1, 'rosa': 1, 'parte': 1, 'logo': 1, 'tendo': 1, 'num': 1, 'tambem?indecisão': 1, 'comentarios': 1, 'atrai': 1, '#nike': 1, '59,00': 1, 'todos': 1, 'voce': 1, 'felizse': 1, 'né?': 1, 'é,': 1, 'material': 1, 'linha': 1, 'privalia': 1, 'custa': 1, 'vibes': 1, 'nikecadê': 1, 'equilíbrio': 1, 'https://t.co/x4c80b0pipesse': 1, 'gastando': 1, 'ideia': 1, 'primeira': 1, 'opções': 1, 'colorido': 1, 'público': 1, 'mo': 1, 'nikepreciso': 1, 'comprado': 1, 'forte': 1, 'foi': 1, 'quanto': 1, 'chega': 1, 'atendente': 1, 'meias': 1, ',': 1, '🤦\\u200d♂️🤤pra': 1, 'transportadoras.': 1, 'precise': 1, 'nós': 1, 'fuder': 1, 'netflix,': 1, 'amiga,': 1, 'diriasite': 1, ')': 1, 'kkkcoloquem': 1, 'tô': 1, 'obrigado': 1, 'par': 1, 'ver': 1, 'nmd': 1, 'segurando': 1, 'compressão': 1, 'ouro': 1, 'vidahj': 1, 'ngmpuxou': 1, '6,99': 1, 'rolêessa': 1, 'heineken': 1, 'pode': 1, 'caralho': 1, 'foto': 1, 'hollister': 1, 'propaganda': 1, 'espaços': 1, '60/70': 1, 'puta': 1, 'eu,': 1, '500': 1, 'vão': 1, 'kktoda': 1, 'né?”': 1, 'nervoso?': 1, 'costura': 1, 'off-white': 1, 'estiloso': 1, 'queronike': 1, 'entender': 1, 'compactua': 1, 'obs:': 1, 'mercado': 1, 'simples,': 1, '\"roshe': 1, '20': 1, 'niketudo': 1, 'gostaríamos': 1, 'antigo,': 1, 'cm': 1, 'porraeu': 1, 'tam': 1, 'barcelona': 1, 'kkkknike': 1, 'https://t.co/zkznmx7v1iqueria': 1, '😍😍😍😍': 1, 'moletomfico': 1, 'peguei': 1, 'nike,e': 1, 'privalia.': 1, 'training': 1, 'outlet': 1, 'grátis,': 1, 'pecado': 1, 'tua': 1, 'chuteira': 1, 'vira': 1, 'cavalera': 1, '70': 1, '😔😔rt': 1, 'tendo,': 1, 'amiga': 1, 'worldwide,': 1, '👀rt': 1, 'r$10': 1, 'nãonão': 1, 'conjuntinho': 1, 'plus': 1, 'gosto': 1, '😣a': 1, 'kkkkkkkkkkkk': 1, 'antes': 1, 'foda.caraca,': 1, 'chorara': 1, 'casa': 1, 'resisti': 1, 'off': 1, 'mesmovou': 1, '\"react\"': 1, '150': 1, '-': 1, '80': 1, 'rainha': 1, 'deu': 1, 'eram': 1, 'kkkkk': 1, 'gato.': 1, 'perfeitoooooooooooooooooooooooooooooooera': 1, 'corta': 1, '❤️🤤': 1, 'pila': 1, 'braba': 1, 'jaca': 1, 'pairt': 1, '250$': 1, 'sim,': 1, 'pochete': 1, 'verdade': 1, 'cmge': 1, 'corinthians': 1, '🗣️eu': 1, 'casa.se': 1, 'pqppelo': 1, 'máximo': 1, 'torro': 1, '😌': 1, 'prefiro': 1, 'entro': 1, 'rendo,': 1, 'todinho': 1, 'amo': 1, 'amém': 1, 'viagem': 1, 'loucura': 1, 'roxo': 1, 'favor': 1, 'dizem': 1, 'pagas': 1, 'lindindeu': 1, 'collab': 1, 'naquele': 1, 'desrespeito': 1, 'hj': 1, 'alma': 1, 'matar': 1, 'reforçar': 1, 'usar': 1, 'realizara…mão': 1, 'anda': 1, 'primeknit': 1, 'bem': 1, 'wpp': 1, 'população': 1, 'sofá': 1, 'vtn7': 1, 'hr': 1, 'linhas': 1, '.': 1, 'chegaram': 1, 'low': 1, 'milhões': 1, 'juliet': 1, 'baixa': 1, 'https://t.co/kl9cw9takzaniversário': 1, 'maldade': 1, 'sua': 1, 'dnv?': 1, 'flyknit': 1, 'hoje?': 1, 'kkkka': 1, 'conteúdo': 1, 'moletonzinho': 1, 'renner': 1, 'busao': 1, 'plmdsmeu': 1, 'bonitoa': 1, 'nikechocada': 1, '12': 1, 'falando': 1, '😂👀': 1, 'toda': 1, 'nikeera': 1, 'marola': 1, 'vans.': 1, 'mesma': 1, 'carrinho': 1, 'customizado,': 1, 'resto': 1, 'brasil': 1, 'trajadinho': 1, 'calçado': 1, '300': 1, 'rápido': 1, 'pprt': 1, 'fodaaaaaaobrigada': 1, 'ótimos,': 1, 'eua': 1, ').': 1, 'lindas': 1, 'psg': 1, 'mundort': 1, 'tb': 1, 'estiver': 1, 'aos': 1, 'agorameu': 1, 'branco': 1, 'https://t.co/lgwypiox…de': 1, 'maluco': 1, 'https://t.co/ptgvtpsl57alguém': 1, 'ela.essa': 1, 'https://t.co/vaxjwvouhiquando': 1, 'sentindo': 1, 'gentileza': 1, 'vende': 1, 'krl': 1, '🙏': 1, 'melissa,': 1, '😭😭😭😭rt': 1, 'nao?”': 1, 'santo': 1, '☑️': 1, 'né,': 1, 'simque': 1, 'entregando': 1, 'vintage': 1, 'cansa': 1, 'jordan.': 1, 'pedido': 1, '🤦🏽\\u200d♂️n': 1, 'vasculho': 1, 'https://t.co/ahbkiwjqvneu': 1, 'farfetchgosto': 1, 'restarttô': 1, 'patamar': 1, 'coloridart': 1, 'treinos': 1, 'pine': 1, 'encomendasja': 1, 'atéeu': 1, 'ultraboost': 1, 'grupo': 1, 'fofo': 1, 'graça🥺🥺🥺🥺🥺🥺': 1, 'ter': 1, 'mao': 1, 'novocomo': 1, 'possibilidade': 1, 'minhas': 1, 'nikenike': 1, 'aquele': 1, '400+': 1, 'preta': 1, 'reebok': 1, 'https://t.co/0qmw0f13gdold': 1, '50': 1, 'denovo,': 1, 'mtas': 1, 'recebidos': 1, 'achei': 1, 'facada': 1, 'baratinhos.nike': 1, 'bumbum': 1, 'maxsite': 1, 'causa': 1, 'continuo': 1, 'vem': 1, 'caminhadaputa': 1, '🔁queria': 1, 'moral,': 1, 'depende': 1, 'https://t.co/yrzf9grflgtava': 1, 'oakley?': 1, 'preparado': 1, ':v': 1, 'desses': 1, 'https://t.co/u21vgzjdducomprar': 1, 'gastar&lt;rt': 1, 'antiga': 1, 'dubai': 1, 'feio': 1, 'https://t.co/lghgmudk6vum': 1, 'qualidade': 1, 'pessoa': 1, 'mae': 1, 'cliente': 1, 'coloca': 1, 'hoje☺️alo': 1, 'shox': 1, 'baratomeus': 1, 'compensação.tenho': 1, 'traje': 1, 'coisasgostei': 1, '40': 1, 'fodas': 1, '259': 1, 'emprego,': 1, '2018': 1, 'acho': 1, 'elevou': 1, 'gozo': 1, 'dar': 1, '“vc': 1, 'boladoquero': 1, 'ganhar': 1, 'paciência': 1, 'aitava': 1, 'acertou': 1, 'contato': 1, '\"nike\"': 1, 'caraleoooooooooooopensando': 1, 'tbm.': 1, 'skate': 1, '😍rt': 1, 'maleável': 1, 'relação': 1, 'mim': 1, 'nome': 1, '25': 1, 'tropa': 1, 'stussy': 1, 'deixar': 1, 'lindoeu': 1, 'vários': 1, 'itaquera': 1, 'loggi': 1, 'modelo': 1, 'mochila': 1, 'shopping': 1, 'sandália': 1, 'penso': 1, 'bolhaagora': 1, '🤟': 1, 'apaixonada': 1, 'free': 1, 'quase': 1, 'documentário': 1, 'grande': 1, 'pro': 1, 'restante': 1, 'compras': 1, 'fala': 1, 'tênis,': 1, 'falei': 1, '🗣🗣🗣': 1, 'vcs': 1, 'chegando': 1, 'baile': 1, 'escolha': 1, 'aquilo': 1, 'mt': 1, 'partir': 1, 'dia.sem': 1, 'falar': 1, 'strava': 1, 'guerra': 1, 'one\"': 1, 'lindart': 1, '#jdmarcas': 1, 'sap': 1, 'mês': 1, 'nike?': 1, 'gg.': 1, 'rapidinho': 1, 'vitalício': 1, 'manga': 1, 'transformou': 1, 'lancei': 1, 'offto': 1, '6': 1, 'contada': 1, 'nike...quero': 1, '🗣🗣🗣🗣🗣': 1, 'nikee': 1, 'dá': 1, 'miss': 1, 'pobre': 1, 'descalço,': 1, 'bonitos': 1, 'hipoesquerdia.vou': 1, 'nesse': 1, 'manoa': 1, 'emp…joga': 1, 'green': 1, 'cada': 1, 'homem': 1, 'bolso': 1, 'barato': 1, 'blogueiro': 1, 'amémassustado': 1, 'nyjah': 1, 'seria': 1, 'não,': 1, 'tambémamanhã': 1, 'perfeito': 1, 'calça,': 1, 'nike😍💙💜': 1, 'https://t.co/lvrnqn4cnwsite': 1, 'etc)': 1, 'cara': 1, 'valor': 1, 'busco': 1, 'uso': 1, '$': 1, 'pequeno,': 1, '59.': 1, 'shoxuma': 1, 'pronto...': 1, 'ngm': 1, 'nvrt': 1, 'boost': 1, 'certeza': 1, 'afs': 1, 'deixa': 1, 'mesmo': 1, 'original': 1, '4+': 1, 'patro': 1, 'camiseta': 1, 'manifestação': 1, 'baw': 1, 'seguimores': 1, 'mano': 1, 'boots': 1, 'grátis': 1, 'mudar': 1, 'existência': 1, 'virtual': 1, 'social': 1, 'garota': 1, 'viu': 1, '&gt;': 1, 'além': 1, 'km': 1, 'tornou': 1, 'fé': 1, 'https://t.co/ufdsh7i0glrt': 1, 'combina,': 1, 'nike...': 1, 'hmmmmbusquei': 1, 'desse': 1, 'estou': 1, 'meia': 1, 'faixa': 1, 'aaaaaaaaaaaaaaaaaart': 1, 'enquanto': 1, 'sabem': 1, 'cometer': 1, 'coração': 1, 'fechamento': 1, 'pré': 1, 'chamada': 1, 'simples': 1, 'fodart': 1, 'sábado.': 1, 'fórum': 1, 'aeropostale,': 1, 'mano,': 1, 'proporcionar': 1, 'loucurao': 1, '3x,': 1, 'render': 1, 'pocar': 1, '2009?pedi': 1, 'cresceu': 1, 'referido': 1, 'money': 1, 'vapor': 1, 'parece': 1, 'patrocina!!!': 1, 'vindotodo': 1, 'bctrt': 1, 'nikesó': 1, 'delenamoral': 1, 'promort': 1, 'zz,': 1, 'defeitos': 1, 'satisfeita': 1, 'https://t.co/oolaoco1difui': 1, 'malhando': 1, 'n°': 1, 'usar,': 1, '🥺': 1, 'então': 1, '18/09': 1, 'canto': 1, 'enfim,': 1, 'cabeçaesses': 1, 'reaisrt': 1, 'assim': 1, 'cruzesss': 1, 'produtos': 1, 'arte': 1, 'uteis': 1, 'desenho?!!': 1, 'cogitando': 1, 'casar': 1, 'ofertasvirei': 1, 'realmente': 1, 'aí,': 1, 'https://t.co/fu7tbo80qrum': 1, 'mercurial': 1, '&gt;eu': 1, 'seriamente': 1, 'tudo🥺😍tem': 1, 'pandemia': 1, 'mensagem!': 1, '😫': 1, 'semana,': 1, 'marca(nike,': 1, 'puto.': 1, 'ja': 1, 'recomendo.caralho': 1, 'braboooooodica': 1, 'kkkk': 1, 'anotemqueria': 1, 'contador': 1, 'entregam': 1, 'fraco': 1, 'promoções': 1, 'beltrão': 1, 'https://t.co/9d9h5ltymzrt': 1, '41': 1, 'sistema': 1, 'adidasqueria': 1}\n"
     ]
    }
   ],
   "source": [
    "dicionario_elogio = {}\n",
    "for a,i in freq_abs_elogio.items():\n",
    "    prob = i\n",
    "    dicionario_elogio[a] = prob\n",
    "print(dicionario_elogio)"
   ]
  },
  {
   "cell_type": "markdown",
   "metadata": {},
   "source": [
    "Podemos montar um **DICIONÁRIO CRÍTICA** que terá como chaves, as palavras encontradas nos tweets de crítica, e como valores as contagens dessas palavras, ou seja, quantas vezes elas aparecem."
   ]
  },
  {
   "cell_type": "code",
   "execution_count": 22,
   "metadata": {
    "scrolled": false
   },
   "outputs": [
    {
     "name": "stdout",
     "output_type": "stream",
     "text": [
      "{'nike': 90, 'da': 61, 'de': 50, 'que': 46, 'e': 40, 'a': 38, 'não': 30, 'eu': 29, 'o': 26, 'um': 26, 'tênis': 26, 'na': 25, 'é': 24, 'meu': 23, 'pra': 19, 'mas': 19, 'no': 19, 'só': 18, 'do': 17, ':': 17, 'com': 17, 'uma': 13, 'tem': 12, 'os': 12, 'comprar': 11, 'me': 10, 'site': 10, 'em': 10, 'mais': 9, 'n': 9, 'nike,': 9, 'se': 9, 'dois': 9, 'q': 9, 'queria': 8, 'ta': 8, 'amo': 8, 'tá': 7, 'tenis': 7, 'essa': 7, 'por': 6, 'faz': 6, 'ou': 6, 'as': 6, 'aí': 6, 'sola': 6, '600': 5, '12': 5, 'feio': 5, 'dinheiro': 5, 'vai': 5, 'adidas': 5, 'já': 5, 'este': 5, 'acho': 5, 'todos': 5, 'puma': 5, 'reais': 5, 'fazer': 5, 'quero': 5, 'promoção': 4, 'dia': 4, 'pai': 4, 'vans': 4, 'fosse': 4, 'bom': 4, 'loja': 4, 'p': 4, 'pq': 4, 'são': 4, 'dos': 4, 'preferência': 4, 'ter': 4, 'uns': 4, 'camisa': 4, 'esse': 3, 'deus': 3, 'jordan': 3, 'agora': 3, 'menos': 3, 'eh': 3, 'para': 3, 'sempre': 3, 'ver': 3, 'fiscal': 3, 'comprei': 3, 'trás': 3, 'seus': 3, 'isso': 3, 'adidas,': 3, 'air': 3, '1': 3, 'tenho': 3, 'nota': 3, 'calço': 3, 'pela': 3, 'aqui': 3, 'outro': 3, 'fotógrafo': 3, 'te': 3, 'heineken': 3, 'bem': 3, 'contrato': 3, 'apologia': 3, 'racista': 3, 'vc': 3, 'ao': 3, 'vou': 3, 'sb': 3, 'custa': 3, 'símbolo': 2, 'nem': 2, 'gostar': 2, 'quadros': 2, 'viu': 2, 'tal': 2, 'pelo': 2, 'cima': 2, 'saindo': 2, 'amo,': 2, 'gastar': 2, 'bandido': 2, 'simbolo': 2, 'nike:': 2, 'pé': 2, 'parece': 2, '🤦🏾\\u200d♂️': 2, 'ficar': 2, 'filha': 2, 'desconto': 2, 'shox': 2, 'num': 2, 'brasileiro': 2, 'corta': 2, 'tira': 2, 'vendo': 2, 'aguento': 2, 'saco': 2, 'pro': 2, 'tamanho': 2, 'consigo': 2, 'tributação': 2, 'all': 2, 'bolso': 2, 'lixo': 2, '33': 2, 'preço': 2, 'quem': 2, 'ele': 2, 'fez': 2, 'voltando': 2, 'seria': 2, 'so': 2, 'sendo': 2, 'nada': 2, 'olhar': 2, 'mesma': 2, 'à': 2, '34,': 2, '44': 2, 'salário': 2, 'fui': 2, 'porra': 2, 'definitivamente': 2, 'concorrentes.': 2, 'brasil': 2, 'mola': 2, 'mané': 2, 'caro💔rt': 2, 'blusa': 2, 'até': 2, 'gosto': 2, 'caralho': 2, 'entro': 2, 'existe': 2, 'coloca': 2, 'aniversário': 2, 'então': 2, 'usar': 2, 'ser': 2, 'dizer': 2, 'nikert': 2, '-': 2, 'manda': 2, 'triste': 2, 'muito': 2, 'uso': 2, '😂😂😂': 2, '340': 2, 'caro': 2, 'chuteira': 2, '100': 2, 'hein.': 2, 'felicidade\"': 2, 'mt': 2, 'coisa': 2, '33,': 1, 'consumidor': 1, 'igual': 1, 'corridas': 1, 'foder,': 1, 'eu,muitos': 1, 'ele.': 1, 'uf': 1, 'esquerdalha': 1, 'outras': 1, 'atingiu': 1, 'aftênis': 1, 'msmô': 1, 'amor': 1, 'meio': 1, 'rastrear': 1, 'patrocinadoqueria': 1, 'falar': 1, 'interromper': 1, 'apoio': 1, 'maluconike,': 1, 'quesito': 1, 'calcanhar': 1, 'principalmente': 1, 'número': 1, 'aplaudida': 1, 'proibido': 1, 'run': 1, 'pena': 1, 'faça': 1, 'plmdsentrei': 1, 'das': 1, 'corinthians': 1, '🔥🖤nike': 1, 'nenhum': 1, 'enche': 1, 'acabei': 1, 'cavalominha': 1, 'qq': 1, \"mês7'\": 1, '65%off': 1, 'campanhas': 1, 'patrocinando': 1, 'retirou': 1, 'deita': 1, 'psicopatas?': 1, 'toda': 1, 'nike\"': 1, 'continuar': 1, 'justiça': 1, 'numeroeu': 1, 'mataram': 1, 'marca': 1, 'varia': 1, 'oliveira': 1, 'kkkrt': 1, 'pequeno': 1, 'davi': 1, 'dúvida': 1, 'casa.': 1, 'arroz': 1, '😭😭😭😭tô': 1, 'in': 1, 'outros': 1, 'smp': 1, 'clube': 1, 'graça': 1, 'nikecaralho': 1, 'foda-se': 1, 'mãe': 1, 'molart': 1, 'usa': 1, '🤦🏻\\u200d♂️quer': 1, 'escrever': 1, 'não,': 1, 'difícil,': 1, 'ótimas': 1, 'https://t.co/whqirajpdt': 1, 'agr': 1, 'solaquem': 1, 'ameaça?troco': 1, 'esses': 1, 'palavras!': 1, 'duas': 1, 'ahkdhdjshdjsbs': 1, 'fígado😪nem': 1, '1/3': 1, 'fora': 1, 'lugar.': 1, 'conhecia': 1, 'enquanto': 1, 'gostei': 1, 'outlet': 1, 'hora': 1, 'campanha': 1, 'uó': 1, 'supreme': 1, 'já.👊que': 1, 'dácaralho': 1, 'dms,': 1, 'noite': 1, 'né': 1, 'linha': 1, '\"compactua\"': 1, 'material': 1, 'graça,': 1, 'direita': 1, ',': 1, 'pois': 1, 'bag': 1, 'meias': 1, 'justiça.tristeza': 1, 'oasjdioj': 1, 'oficial': 1, 'tomem': 1, 'caprichou': 1, 'sem': 1, 'vontade': 1, 'compra': 1, 'cropped': 1, 'duvidas,': 1, 'saia': 1, 'oq': 1, 'cancelar': 1, 'fornecidas': 1, 'conta': 1, 'loto': 1, 'tarde': 1, '+': 1, 'esperamos': 1, 'limite': 1, 'trabalhos': 1, 'nesse': 1, 'tomar': 1, 'mudar': 1, 'interclasse,': 1, 'br...': 1, 'mãe:': 1, 'muita': 1, 'braba,': 1, '500': 1, 'aguarda': 1, 'senhora': 1, 'assim?': 1, 'voltei': 1, 'fdp.site': 1, 'caro✔️🤯': 1, 'alo': 1, 'jequié': 1, 'esquerda': 1, 'dá': 1, '\"adidas': 1, 'sola,': 1, 'slcrt': 1, 'numa': 1, 'mensagem': 1, 'consegui\"dinheiro': 1, 'po': 1, 'lamentável!bicho,': 1, 'usáveis': 1, 'desgraçaaae': 1, 'reseler': 1, 'promoções': 1, 'zoom': 1, 'valem': 1, 'deve': 1, 'esporte': 1, 'feminino': 1, 'mariele,': 1, 'ela': 1, 'https://t.co/hcmfli4tclnão': 1, 'tncccccaralho': 1, 'faixa': 1, 'meia': 1, 'e-mail': 1, 'pagamento': 1, 'ai?': 1, 'cm': 1, 'como': 1, ':(': 1, 'retirasse': 1, 'falando': 1, 'https://t.co/zkznmx7v1imané': 1, 'bah': 1, 'vocês': 1, 'nice!tudo': 1, 'sexta': 1, 'renovação': 1, 'aquela': 1, 'maior,': 1, 'horrível...boa': 1, 'https://t.co/55d3hnkja3': 1, 'aberraçãoeu': 1, 'wtar': 1, 'gasto': 1, 'tristea': 1, 'nesta': 1, 'gente': 1, 'apoiando': 1, 'seja': 1, 'super': 1, 'rj': 1, 'https://t.co/aj3kjlvgmaé': 1, 'doido': 1, 'entendo': 1, 'nike).quero': 1, 'vagabundo,': 1, 'assíduo': 1, 'juntar': 1, 'acabou': 1, 'crime?racista': 1, 'férias': 1, '😂😂😂😂': 1, 'sola.': 1, 'caindo': 1, 'desse': 1, 'como…rt': 1, 'esperança': 1, 'ódio?': 1, 'atendente': 1, 'outra': 1, 'arrombou': 1, 'doida': 1, 'foi': 1, 'profissionalismo': 1, 'fodase': 1, 'bosta,': 1, 'inflado!a': 1, 'kilometrica': 1, 'posicionasse': 1, 'tem.': 1, 'estoque': 1, 'knowacho': 1, 'sorteado': 1, 'eles': 1, 'puta': 1, 'moda,': 1, 'pumaacabei': 1, 'óbvia.)pq': 1, 'dps': 1, 'top,': 1, 'https://t.co/rhndlmhzkbpaguei': 1, 'qnd': 1, 'ver,': 1, 'gosta': 1, 'deixando': 1, 'ele...': 1, 'nike.': 1, 'br': 1, 'https://t.co/pylmnum043': 1, 'ultraboost': 1, 'quando': 1, 'force': 1, 'comprarei': 1, '2020': 1, '10': 1, 'vez': 1, 'disseminam': 1, 'coisas': 1, '🎶🎶aí': 1, 'd2.': 1, 'recusou': 1, 'nessa': 1, 'minhas': 1, 'lula,': 1, 'nike????????????': 1, 'tamanhoracista': 1, 'coisaa': 1, 'light': 1, 'farão': 1, 'vejo': 1, 'quer': 1, 'molas': 1, 'molasó': 1, 'embaixo': 1, 'roupa': 1, 'gentefui': 1, 'tranquilamente': 1, 'compram': 1, 'amarelo,': 1, 'pagou': 1, 'reais?no': 1, '🤷\\u200d♂️rt': 1, 'aq': 1, 'shopping': 1, 'passou': 1, 'sabe': 1, 'rock': 1, 'gasta.': 1, 'lari,': 1, 'balvin': 1, 'prefiro': 1, 'pf,nele': 1, 'mandar': 1, 'mu…racista': 1, 'menores.queria': 1, 'atitude': 1, 'lembre-se,pessoal': 1, 'dera': 1, 'ano': 1, 'pedido': 1, 'compactua': 1, 'solatô': 1, '😳acho': 1, 'atitudes': 1, 'wilmore': 1, 'abaixar': 1, 'também': 1, 'dando': 1, 'imagino': 1, 'rio,': 1, '“dinheiro': 1, 'tirará': 1, 'c': 1, '280.00': 1, 'bancário': 1, 'reembolsar': 1, 'tanto': 1, 'aberrações': 1, 'perdoe': 1, 'nask': 1, 'sobrou': 1, 'kinder': 1, 'felicidade”': 1, 'patro': 1, 'pau': 1, 'react': 1, 'onde': 1, '™nike': 1, 'bgl': 1, 'vender': 1, '😩😩': 1, 'https://t.co/gf7kjmturzracista': 1, 'melhor': 1, 'amigo': 1, 'somewhere': 1, 'poder': 1, 'rimespero': 1, 'porque': 1, 'di…eu': 1, 'conseguir': 1, '\"dinheiro': 1, 'ovo.': 1, '19': 1, 'amiga': 1, 'fein': 1, 'sobrancelha,': 1, 'suas': 1, 'mano': 1, 'lá': 1, 'https://t.co/kmjbv6gniynão': 1, 'gostaria': 1, 'air,': 1, 'rede': 1, 'alheia:': 1, 'farei': 1, 'todo': 1, 'quebrada.': 1, 'only': 1, 'e,como': 1, 'salvonão': 1, 'kkkkkkk': 1, '(bem,': 1, 'produto': 1, 'patrocínio?': 1, 'mim': 1, 'patrocínio\".': 1, 'fila': 1, 'mídia': 1, 'short': 1, 'horasó': 1, 'qualidade': 1, 'adianta': 1, 'endeusa': 1, 'cara': 1, 'investir': 1, 'umbro': 1, 'entao': 1, 'crime?nem': 1, 'lançamento.comprei': 1, 'cabeça': 1, 'isto': 1, 'minutos': 1, 'nikeracista': 1, 'bom.': 1, 'atitude!rt': 1, 'app': 1, 'compactuo': 1, 'alphafly': 1, 'aguentandoo': 1, 'seco': 1, 'ai': 1, 'solaeu': 1, 'tive': 1, '\"intímo\"': 1, 'baratas': 1, 'heinekenbr,': 1, 'milhões': 1, 'seu': 1, 'https://t.co/pmgscwjuo9nike': 1, 'ganhei': 1, 'aindadifícil': 1, 'msmto': 1, 'kkkkkknike': 1, 'https://t.co/pr03jomjprnike/adidas': 1, 'curso': 1, 'casaco': 1, '(ótimas': 1, 'era': 1, 'inter...': 1, 'infinity': 1, 'for': 1, 'conto': 1, 'seleção,': 1, 'feiaousei': 1, 'durante': 1, 'preferencia': 1, 'cu': 1, 'concorrênciart': 1, 'falei': 1, 'achei': 1, 'fica': 1, 'tocaia': 1, 'we': 1, 'pegar': 1, 'https://t.co/aj3kjlvgmaqueria': 1, 'violência': 1, 'pública': 1, 'nike???rt': 1, 'coisa.': 1, 'interesso': 1, 'demorou': 1, '281010279': 1, 'acontecerá': 1, 'consegue': 1, 'novo': 1, 'merecem.': 1, 'jáô': 1, 'fode': 1, 'acontecendoqueria': 1, 'lançar': 1, '2': 1, 'nao': 1, 'nossa': 1, '????rt': 1, 'calça': 1, 'co…nike': 1, 'voiceover': 1, 'sinal': 1, 'marcelo': 1, 'kkkkkk': 1, 'flyknit': 1, 'vê': 1, 'esperar': 1, 'vamos': 1, 'cruel': 1, 'listras': 1, 'tristão': 1, 'erro': 1, 'rena': 1, 'fotógrafo!!!': 1, 'x': 1, 'não?uma': 1, '“2”,': 1, 'melhores,': 1, 'vtnc': 1, 'qualquer': 1, 'odeia': 1, '\"fim': 1, '34': 1, '🙄🙄🙄essa': 1, 'neymar': 1, '😕deus': 1, 'maneira': 1, 'social!!!tênis': 1, 'ganhar': 1, 'hoje': 1, 'medo': 1, 'gratuita': 1, 'mandou': 1, 'virada': 1, '™': 1, 'três': 1, 'tudo': 1, 'acabando': 1, 'drogado,': 1, 'algum': 1, 'possível!': 1, 'continua': 1, 'produto,': 1, 'https://t.co/fzyguvbdq4': 1, 'grana': 1, 'mil': 1, 'corinthiansracista': 1, 'to': 1, 'quase': 1, 'https://t.co/gk967rdanhrt': 1, 'pouquinho': 1, 'manter,': 1, 'grande': 1, 'tributação...': 1, 'ir': 1, 'geral': 1, 'viubom': 1, 'uniforme': 1, 'providências?': 1, 'algumas': 1, 'seduzida': 1, 'goleiro': 1, 'heinekenbr': 1, 'resposta': 1, 'morreu': 1, 'tinha': 1, 'primort': 1, 'perde.': 1, 'next%': 1, 'esperando': 1, 'estão': 1, 'aguentandoracista': 1, 'jeans': 1, 'aparentemente': 1, 'dálmata': 1, 'pessoas': 1, 'dispensa': 1, 'liberado!': 1, '._.sla': 1, 'patrocinado': 1, 'j': 1, 'mínimo': 1, 'https://t.co/jzutjjektcracista': 1, 'facada': 1, 'chinelinho': 1, 'mbape': 1, 'star': 1, 'ja': 1, 'force&gt;&gt;&gt;rt': 1, 'demais': 1, 'lembro': 1, 'fizeram': 1, 'paguei': 1, 'fizesse': 1, 'https://t.co/ltfo0emhvz': 1, 'assinou': 1, 'kk': 1}\n"
     ]
    }
   ],
   "source": [
    "dicionario_critica = {}\n",
    "for a,i in freq_abs_critica.items():\n",
    "    prob = i\n",
    "    dicionario_critica[a] = prob\n",
    "    \n",
    "print(dicionario_critica)"
   ]
  },
  {
   "cell_type": "markdown",
   "metadata": {},
   "source": [
    "Podemos montar um **DICIONÁRIO INDIFERENTE** que terá como chaves, as palavras encontradas nos tweets de indiferente, e como valores as contagens dessas palavras, ou seja, quantas vezes elas aparecem."
   ]
  },
  {
   "cell_type": "code",
   "execution_count": 23,
   "metadata": {
    "scrolled": false
   },
   "outputs": [
    {
     "name": "stdout",
     "output_type": "stream",
     "text": [
      "{'de': 83, 'nike': 77, 'da': 71, 'e': 65, 'que': 63, ':': 59, 'o': 56, 'a': 49, 'eu': 36, 'é': 32, 'um': 32, 'na': 30, 'com': 27, 'não': 27, 'pra': 25, 'uma': 24, 'no': 24, 'do': 24, 'se': 21, 'ou': 15, 'só': 14, 'tem': 14, 'tênis': 13, 'em': 13, 'meu': 12, 'q': 11, 'me': 10, 'vai': 10, 'minha': 10, 'os': 10, 'esse': 10, 'para': 10, ',': 10, '-': 9, 'está': 9, 'nike,': 9, 'vida': 8, 'mas': 8, 'tenho': 8, 'você': 7, 'fotógrafo': 7, 'vira': 7, 'enfia': 7, 'mais': 7, 'cu': 7, '/': 6, 'r$': 6, 'tudo': 6, 'adidas': 6, 'nikert': 6, 'comprar': 6, 'ir': 6, 'fazer': 6, 'tá': 5, 'como': 5, 'quero': 5, 'hoje': 5, 'até': 5, 'ele': 5, 'sou': 5, 'por': 5, 'pro': 5, 'faz': 5, 'coisa': 5, 'nem': 5, 'já': 5, 'marca': 5, 'essa': 5, 'ela': 5, 'n': 5, 'to': 5, 'ao': 4, 'site': 4, 'fardamento': 4, 'novo': 4, 'nunca': 4, 'nada': 4, 'ter': 4, 'certeza': 4, 'fica': 4, '(': 4, 'tenis': 4, 'quem': 4, 'pela': 4, 'dinheiro': 4, 'zona': 4, 'pelo': 4, 'uns': 4, 'vc': 4, 'as': 4, ')': 4, 'cara': 4, 'trabalhos': 4, 'ser': 4, 'adidas,': 4, 'estudando': 4, 'heineken': 4, 'proposta': 4, 'outros': 4, '10': 4, 'usa': 4, 'fala': 4, 'muito': 3, 'corta': 3, 'era': 3, 'd2': 3, 'nos': 3, 'pai': 3, 'mês': 3, 'blusa': 3, 'aí': 3, 'nike...': 3, 'isso': 3, 'estão': 3, '#nike': 3, 'receber': 3, 'sei': 3, 'trem': 3, 'outras': 3, 'vale': 3, 'trabalhando': 3, 'blá': 3, 'roupa': 3, 'qualquer': 3, 'sabe': 3, 'queria': 3, 'vem': 3, 'cupom': 3, 'outro': 3, '💳': 3, 'ver': 3, 'aceitamos': 3, 'ta': 3, 'grátis': 3, 'camisa': 3, 'tô': 3, 'coisas': 3, 'entre': 3, 'desde': 3, 'comprei': 3, 'site:': 3, 'chamando': 3, 'kobe': 3, 'aliás': 3, 'espaços': 3, 'fiz': 3, 'vou': 3, 'quando': 3, 'será': 3, 'igual': 3, 'dele': 3, 'marcelo': 3, 'braba': 2, 'deu': 2, 'número': 2, 'assim': 2, 'jpa': 2, 'gente': 2, 'patrocinado': 2, 'falar': 2, 'realizamos': 2, 'toda': 2, 'negocia': 2, 'não,': 2, 'dois': 2, 'fez': 2, 'calça': 2, 'desse': 2, '=': 2, 'oliveira.': 2, 'passar': 2, 'ai': 2, 'dela': 2, 'tomar': 2, 'pessoal': 2, '4': 2, 'vocês': 2, 'gg': 2, 'golaço': 2, 'flyknit': 2, 'oi': 2, 'patrocina': 2, 'kkkkkkkk': 2, 'jacarezinho': 2, 'oq': 2, '10%': 2, 'ja': 2, 'são': 2, 'mil': 2, 'nesse': 2, 'ora': 2, 'troco': 2, 'aqui': 2, 'junto,': 2, 'todos': 2, 'internet': 2, 'sb': 2, 'dou': 2, 'existem': 2, 'mim,': 2, 'i': 2, 'bancário': 2, 'loja': 2, 'nessa': 2, 'pandemia': 2, 'compro': 2, 'mãe': 2, 'rio': 2, 'adquira': 2, 'menos': 2, 'sul': 2, '📲': 2, 'verdade': 2, 'in': 2, 'estação': 2, 'entrega': 2, '20%': 2, 'conhece?': 2, 'adidas?': 2, 'desconto!': 2, 'à': 2, '👑🐊': 2, 'cartão': 2, 'muita': 2, 'nosso': 2, 'rangel': 2, 'cabelo': 2, 'código': 2, 'maior': 2, 'bráz.': 2, 'chegou': 2, 'esses': 2, 'bagulho': 2, 'bem': 2, 'clube': 2, 'nova': 2, 'tamanho:': 2, 'merda': 2, 'vontade': 2, 'alguém': 2, 'branca': 2, 'vão': 2, 'morando': 2, '\"': 2, 'sobre': 2, '🚉': 2, 'pres.': 2, 'milhares': 2, 'jordan': 2, 'novo,': 2, 'débito': 2, 'alô': 2, 'algo': 2, 'aniversário': 2, '📦🚚': 2, 'ação': 2, 'porque': 2, 'amigo': 2, 'rua': 2, 'ano': 2, 'pessoa': 2, 'patrocinadora': 2, 'serem': 2, 'social': 2, 'num': 2, 'sua': 2, 'fase': 2, 'wilmore': 2, 'tbm': 2, 'david': 2, 'relógio': 2, 'tal': 2, 'depósito': 2, 'manda': 2, 'também': 2, 'turnê': 2, 'tempo': 2, '💵': 2, 'pode': 2, 'adolescente': 2, 'vez': 2, 'c': 2, 'black': 2, '👟': 2, 'ficar': 2, 'norte': 2, 'uso': 2, 'apaixonado': 2, 'trouxa': 2, 'significa': 2, 'mesmo': 2, 'região': 2, '1.900': 2, 'chinelo': 2, 'whatsapp': 2, 'grêmio': 2, 'crédito': 2, 'acreditar': 2, 'cidade.': 2, 'usei': 2, 'bola': 2, 'reais': 2, 'dá': 2, 'tipo': 2, 'amaro': 2, 'instagram': 2, 'vcs': 2, 'ganhe': 2, 'qual': 2, 'doida': 2, 'triste': 2, '1x1': 2, 'fábio,': 2, 'disponíveis': 2, '1': 2, 'dias': 2, 'protro': 2, '44': 2, '🚀💪🏿': 2, 'pq': 2, 'carioca': 2, 'quanto': 2, '3': 2, 'cavani.': 2, 'próximo': 2, 'carro': 1, 'mimimi': 1, 'viesse': 1, 'tinha': 1, 'crescer,': 1, 'comercial': 1, 'kaptalista': 1, 'população': 1, 'brota': 1, 'muda': 1, 'https://t.co/eizybfefu1nike,': 1, 'lista': 1, 'pobre': 1, 'masculino': 1, 'nike...mais': 1, 'fiscal': 1, 'vaisefode…': 1, 'casa,': 1, 'momento.': 1, 'esclarecidos,': 1, 'agora': 1, 'semana': 1, 'pantanal,': 1, 'coisa.': 1, 'ninguém': 1, 'galera': 1, 'cidadão,': 1, 'comprando': 1, 'trabalha': 1, 'forrt': 1, 'adidasrt': 1, 'olharo': 1, 'mercar': 1, 'viver': 1, 'trilha': 1, 'combinar': 1, 'lá,': 1, 'aindahoje': 1, 'coloquei': 1, 'juntinho': 1, 'm,': 1, 'libertadores': 1, 'perder': 1, 'elogiado': 1, 'duvida,': 1, 'verificado': 1, 'lacoste,': 1, 'deuso': 1, 'não..': 1, 'blumenau,': 1, '#kobe': 1, 'pena…minha': 1, 'cores': 1, 'peça': 1, 'mas,': 1, 'mai…só': 1, 'ong': 1, '\"nike': 1, 'zagueiro': 1, 'simplesmente': 1, 'meta!🥰👩\\u200d❤️\\u200d💋\\u200d👨🏡🚘🏍️🤞🏾': 1, 'https://t.co/7ksyqxevwf': 1, 'exclusivo': 1, 'achar': 1, 'rápida': 1, 'viado': 1, 'contarrt': 1, 'linda😍': 1, '#lakers': 1, '🙏🏽rt': 1, 'https://t.co/k2bs…nike': 1, 'menina': 1, 'demais!!': 1, 'vacina': 1, 'trocar': 1, 'chamar': 1, 'deixavam': 1, 'pensa': 1, 'https://t.co/kcspt3v0bs': 1, 'sendo:': 1, 'do,': 1, 'qm': 1, 'hipótese': 1, 'non': 1, 'corpinhoxa': 1, 'atit…': 1, 'treino': 1, 'pegasus': 1, 'excluirem': 1, 'beneficie': 1, 'biografia': 1, 'canvas': 1, 'parei': 1, 'vídeo,': 1, 'bíblia,': 1, 't-shirt': 1, 'gil': 1, 'tantos': 1, 'quer': 1, 'patrocína': 1, 'boulevard': 1, 'sofrendo': 1, 'roda': 1, 'cânhamo': 1, 'neves': 1, 'modelos': 1, 'comunistart': 1, 'bryant': 1, 'outros…': 1, 'slide': 1, 'like:': 1, 'issologo': 1, 'souber': 1, 'atitude': 1, 'mkkkkkkkkkk': 1, 'rt': 1, 'encantam': 1, 'deusrt': 1, 'brega': 1, 'maquiagem': 1, '\"ainnn': 1, 'glória': 1, 'chuteiras': 1, 'preocupa': 1, 'falando': 1, 'lacoste': 1, 'evitando': 1, 'asics.': 1, 'paitem': 1, 'pumart': 1, 'via': 1, 'giamellaroalô': 1, 'água': 1, 'te': 1, 'lixo': 1, 'coincidência': 1, 'louco!!🙏🏽nike': 1, 'moh': 1, 'la': 1, 'pagará': 1, 'merda,': 1, 'simulando': 1, 'https://t.co/xp19ortcjntriste': 1, 'fdsss.#nike': 1, '👀': 1, '#youcantstopus': 1, 'ruim': 1, 'preço': 1, '?': 1, 'adidas?\"': 1, 'pras': 1, '🙅🏾\\u200d♂️aniver': 1, 'kkkkkkkkkkkkkkkkkkgrêmio': 1, 'motoqueiros,': 1, 'justo': 1, 'história': 1, 'graça': 1, 'observar': 1, 'ritler': 1, 'https://t.co/mngv2wopsr': 1, 'vento': 1, '✔️': 1, 'ficam': 1, '…coloquei': 1, '\"tô': 1, 'vendo': 1, 'compra': 1, 'rosa': 1, 'margem': 1, 'espera…grêmio': 1, 'confio..': 1, 'bichao': 1, '#kobebryant': 1, 'zoom': 1, 'realizaram': 1, 'entrar': 1, 'https://t.co/qz3wj8hygymuito': 1, 'pero': 1, '129,99': 1, 'cfo': 1, 'mais...oi': 1, 'dizer✓™vc': 1, 'porto': 1, 'novin': 1, 'jogaria': 1, 'consul…': 1, 'quero!!': 1, 'https://t.co/y5t7opjqvjrt': 1, 'amiga,': 1, 'eisenbahn': 1, 'xingar': 1, 'qro': 1, 'maturidade': 1, '🔥': 1, 'refrigerante': 1, 'https://t.co/yrzf9grflgparecendo': 1, 'flash': 1, 'presente\",': 1, 'nascer': 1, 'público': 1, 'empres…': 1, 'air': 1, 'pagamento?rt': 1, 'posicionasse': 1, 'opabier': 1, 'puma?': 1, 'penso': 1, 'tatuagem,': 1, 'no…': 1, 'chega': 1, 'lanche': 1, 'joga,': 1, 'falo': 1, 'gastar': 1, 'patrocinados': 1, 'viveu,': 1, 'pulo': 1, 'dar': 1, 'tua': 1, 'resto': 1, '#bailedaargelia': 1, 'jkkkkkkkjogado': 1, '😜': 1, 'jegue': 1, 'parentes,': 1, 'criminalização': 1, 'retirasse': 1, 'p': 1, 'poder': 1, 'porrra': 1, 'baguiiuuut-shirt': 1, '991490327': 1, 'maneira': 1, 'trabalhoe': 1, 'https://t.co/nl8pduocufrt': 1, 'https://t.co/noldidcwob': 1, 'continue': 1, 'mereço': 1, '🛍': 1, 'resolver': 1, 'isso,': 1, 'começi': 1, '😍falei': 1, 'ml.': 1, '!!!!rt': 1, 'fechar': 1, 'remédios': 1, 'recordes': 1, 'negócio': 1, 'quanto.': 1, 'nike\"': 1, 'material.': 1, 'foto': 1, 'rdi🤨rt': 1, 'boas': 1, 'gostaríamos': 1, 'vento....': 1, 'paty,ela': 1, 'deste': 1, 'perde': 1, 'posicionamento': 1, 'depreciado': 1, 'podem': 1, 'povo': 1, 'irmão': 1, '20': 1, 'vamo': 1, 'vitoria': 1, 'exagerado': 1, 'https://t.co/wlrq6aqcnm': 1, 'cerveja': 1, 'nos!🙏❤️': 1, 'orçamentos,': 1, 'https://t.co/5abpq6iiddo': 1, 'mente': 1, '21': 1, 'fiirt': 1, 'kkkkkkkkkkkkkkkkkknike,': 1, 'dps': 1, 'ali': 1, 'compactua': 1, 'besteira': 1, 'mandei': 1, 'everson': 1, 'investe': 1, 'https://t.co/gtzzesifbert': 1, 'seuna': 1, 'rosa,': 1, 'iguaçu': 1, 'cm': 1, '✨': 1, 'olhou': 1, 'confirma': 1, '#nba': 1, 'tampart': 1, 'chuva': 1, 'casca': 1, 'mimos?': 1, 'https://t.co/ufx7d6xa…rt': 1, 'amigo....': 1, 'envolvimento': 1, 'nega': 1, 'mc,': 1, 'moda': 1, 'faixa!': 1, 'king': 1, '139$': 1, 'ganhou': 1, 'aceitação': 1, '2': 1, 'salvaria': 1, 'desligar': 1, 'enfiavoces': 1, 'nikequantidade': 1, 'gangstar': 1, 'olha': 1, 'ahah': 1, '#chelsea.': 1, 'djonga': 1, 'direitinho.': 1, 'fornecer': 1, 'messi': 1, 'ainda': 1, 'ele,': 1, 'despretensiosamente': 1, 'imperador': 1, 'promoção.será': 1, 'mundo': 1, '🇩🇿': 1, 'https://t.co/uf6baeguhcvai': 1, '11933756027': 1, 'pretendia': 1, 'pesquisa': 1, 'yago': 1, 'fotógrafo!!!': 1, 'tive': 1, 'fotógrafo…': 1, 'https://t.co/wnqic1jtlueu:': 1, 'recebeu': 1, 'seu': 1, 'parente': 1, 'tenho:': 1, 'desassistidos': 1, 'decepção': 1, 'vamort': 1, 'tbm.': 1, 'promocional': 1, 'derrame': 1, 'encaminhado': 1, 'brasil\",': 1, 'poupar': 1, 'veeeem': 1, 'vê': 1, 'adias,': 1, 'aki': 1, 'idéias': 1, 'números': 1, 'atitudes,': 1, 'próximos': 1, 'cervejaria': 1, 'tomada?': 1, '#nadapodepararagente': 1, 'fui': 1, 'fiot,': 1, 'gucci': 1, 'descobrirem': 1, 'contrato': 1, 'https://t.co/vyamlsndwi': 1, 'imagina': 1, 'adidaspessoas': 1, 'nojo': 1, 'pouca': 1, \"bob's\": 1, 'faça': 1, 'alheia': 1, 'fornecimento': 1, '30': 1, 'hipocrisiart': 1, 'nesta': 1, '–': 1, 'aliás…alo': 1, 'mudaria': 1, 'retro.': 1, 'jersey': 1, '#airmax': 1, 'experimento': 1, 'futuro.': 1, 'aprendeu.': 1, 'cartões': 1, 'amigos': 1, 'ozeliaideal': 1, 'usar': 1, '🚩⚽': 1, 'boa...': 1, 'oq,': 1, 'comprou': 1, 'aguardo': 1, 'etc.olha': 1, 'comportamento': 1, 'provavelmente': 1, 'subir': 1, 'palhaço:': 1, 'cervejarias.': 1, 'https://t.co/hgyof7werjrt': 1, 'sr': 1, 'resto!gabrielle': 1, 'kit': 1, '😂😂😂😂rt': 1, 'mlq,': 1, 'deixou': 1, 'velha': 1, '20k': 1, 'dúvida': 1, 'fã': 1, 'universo': 1, 'gostaria': 1, 'years': 1, 'hate': 1, 'nola…essa': 1, 'relacionamento': 1, 'reforçar': 1, '5': 1, 'lançou': 1, '\"eu': 1, 'entender,': 1, 'namora': 1, 'nico': 1, 'manutenção': 1, 'relação': 1, 'realizam…baixando': 1, 'esperando': 1, 'skate': 1, 'escutando': 1, 'cr': 1, 'esse?': 1, 'cola': 1, 'vapor': 1, 'munhequeira': 1, 'meus': 1, 'torcer': 1, 'caso': 1, '2.300': 1, 'embalado': 1, 'ganha': 1, 'tipos': 1, 'sacolaserá': 1, 'terça-feira': 1, 'blz,': 1, '#nb': 1, 'novinho': 1, 'visualizou?rt': 1, 'https://t.co/gxajfx1r9p30549': 1, 'run': 1, 'junto': 1, 'apoio': 1, 'https://t.co/vbobhnwk6rentrei': 1, 'https://t.co/xikpyl4uwtrt': 1, 'cana': 1, '37': 1, 'etc.)': 1, 'rastrear': 1, '😂😂😂😂': 1, '#trgremio▶': 1, 'iraque': 1, 'cabeza': 1, 'kkakaakakakakaka': 1, 'mixórdia.se': 1, 'produto,': 1, 'correr': 1, 'surtadinha': 1, 'você,': 1, '#lebronjames': 1, 'nota.': 1, 'renner': 1, 'pegou': 1, 'hora': 1, 'grande': 1, 'atitudes....': 1, 'rosto,': 1, 'wi-fi': 1, 'https://t.co/k2p1a3lngjrt': 1, 'neymar': 1, 'rio,': 1, 'obrigado': 1, '\"apesar': 1, 'algum': 1, 'consumidora': 1, 'também.rt': 1, 'embora': 1, 'querem': 1, 'volta': 1, 'https://t.co/tp8dcbgjkart': 1, 'dentro': 1, 'esta': 1, 'acordo': 1, 'abençoada': 1, 'hai': 1, 'levar': 1, 'kkkkkkkkkk': 1, '(adidas,': 1, 'kkkkkk': 1, 'época': 1, 'festa': 1, '🤦\\u200d♂️': 1, 'meião': 1, 'acreditando.': 1, 'trair': 1, 'dk:': 1, 'evitem': 1, 'milhões': 1, 'agradece.': 1, 'muito.': 1, 'devolve': 1, \"mcdonald's\": 1, 'psg': 1, 'boicotort': 1, 'problema': 1, 'platinado,': 1, '290$': 1, 'vomero': 1, 'running': 1, 'tampa': 1, 'drogaa': 1, '38': 1, 'imagina.': 1, 'jogar': 1, '100': 1, 'poucas': 1, 'rock': 1, 'tomem': 1, 'bandidart': 1, 'eu:': 1, 'contra': 1, 'xa': 1, 'motoboy': 1, 'entregas,': 1, 'raquel': 1, 'distante.': 1, 'aberta': 1, 'vi': 1, 'jojo:': 1, 'ajuda': 1, 'mts': 1, 'fac🚅🐻🚩✌️': 1, 'carrinho': 1, 'coletivo': 1, 'sendo': 1, 'tivesse😍': 1, '😂😂😻🇮🇶🇮🇶🇮🇶': 1, 'bergamo': 1, 'conto': 1, 'aceita': 1, '🙏rt': 1, 'app': 1, 'meta': 1, 'caldo': 1, 'mente!!!!🤐': 1, ',se': 1, 'jesus': 1, 'grossaaaaa': 1, 'dia': 1, 'contrário,': 1, 'yeezy': 1, 'pg': 1, 'gremio.': 1, 'fiel.': 1, '409,99': 1, 'qualidade': 1, '22gustavo': 1, 'levanta': 1, 'rede': 1, 'esquecerem.': 1, 'parte': 1, 'escrito': 1, 'vamos': 1, '#moda': 1, 'prevalecer.\"o': 1, 'barbie': 1, '“meu': 1, 'azul': 1, '6': 1, 'trajado': 1, 'pular': 1, 'todo': 1, 'ps2': 1, 'forma': 1, 'bolsonaro.tô': 1, 'reto': 1, '159,90$': 1, 'celular,': 1, 'papo': 1, 'palavras': 1, 'nike#topoferta': 1, 'exame': 1, 'sneakers': 1, 'piranhas': 1, '🏍🏍': 1, 'paz!trampa': 1, 'novidade': 1, 'empresa': 1, 'lenda': 1, 'promo': 1, 'járt': 1, 'permitidosrt': 1, 'bgl': 1, 'vender': 1, 'chama': 1, 'tu': 1, 'presidente': 1, 'amigo...': 1, 'schornstein': 1, 'https://t.co/2rbkymlzjspotz,': 1, 'coisada': 1, 'tops': 1, 'debby': 1, 'toper': 1, 'cauã': 1, 'https://t.co/0ktvqofrpacaralho': 1, 'nada.': 1, 'favor': 1, 'slɐmm': 1, 'nike/dior': 1, 'a(mar)': 1, 'essas': 1, 'https://t.co/n8fnpaio13...': 1, 'lá': 1, 'este': 1, 'mudo': 1, 'problemart': 1, 'teve': 1, 'giu': 1, 'eisenbahn,': 1, 'depois': 1, 'quero,': 1, 'pink': 1, 'chamada': 1, 'pa': 1, 'comecei': 1, 'brotando': 1, 'fazer:': 1, 'ia': 1, 'nike?acho': 1, 'achei': 1, 'evoluir': 1, 'treinar,': 1, 'crise,': 1, 'referido': 1, '#basketball': 1, 'sala': 1, 'gu': 1, 'novo.': 1, 'vejo': 1, 'nojento': 1, 'rígido': 1, 'mulher': 1, '0': 1, 'vacilo': 1, 'vier': 1, 'aq': 1, 'g': 1, 'gaveta': 1, 'fresca': 1, 'distante': 1, 'roupa,': 1, 'idéia': 1, 'mandar': 1, 'm': 1, '#lançamento': 1, '#diraça': 1, 'deixar': 1, 'jacaré': 1, 'esquece.': 1, 'seguir': 1, 'acabei': 1, 'falo,ando': 1, 'tv': 1, 'feio': 1, 'encontrar': 1, 'milkshake': 1, 'tomar.': 1, 'quadro': 1, 'cmg': 1, ':v': 1, 'https://t.co/9kgjut1av2oque': 1, 'multimarcas': 1, 'preconceito': 1, 'futebol': 1, 'simbolos': 1, 'sabe?\"': 1, 'sempre': 1, 'https://t.co/rgdftnu8vd': 1, 'nicks': 1, 'ii': 1, 'pfvrrrr': 1, 'gostou': 1, '#rj': 1, '▶': 1, '21hrs': 1, 'inimigo': 1, 'shox': 1, 'pisa': 1, 'perfil,': 1, 'puma?rt': 1, 'abestalhado!!!rt': 1, '💥o': 1, 'mizuno,': 1, 'amorosa': 1, '🤦🏽\\u200d♀️nike': 1, 'emprestado': 1, 'sugiro': 1, 'assíduo': 1, 'vezes': 1, 'fico': 1, 'https://t.co/upt6hmrxma': 1, 'lealdade': 1, 'quarto,': 1, 'levei': 1, 'bora,': 1, 'saímos': 1, 'do…': 1, 'putaaaaart': 1, 'estética': 1, 'cambio': 1, 'além': 1, 'próximo,': 1, 'squad': 1, 'rua,': 1, 'parceria': 1, 'e,': 1, 'baile': 1, 'normal': 1, 'não.': 1, 'vitalício': 1, 'tantas': 1, 'aliança': 1, 'enfim': 1, 'antiga': 1, '#': 1, 'ultraboost.': 1, 'pros': 1, 'geral': 1, 'dessa,meu': 1, 'endereço': 1, 'faixa,': 1, 'https://t.co/c2yfhku8td': 1, 'correr,': 1, 'santo…': 1, 'sai': 1, 'https://t.co/g1k1n3ctq2eu': 1, 'então': 1, '🥺': 1, 'po': 1, 'mercurial': 1, 'cadê': 1, 'rap': 1, 'https://t.co/jkx3tbhqerrt': 1, 'sério': 1, 'ficando': 1, 'puta': 1, '✔': 1, 'xereca': 1, 'covid': 1, 'feminino': 1, 'bh': 1, 'arte': 1, 'casar': 1, 'gingado,': 1, 'números,': 1, 'carreira': 1, 'cancelar': 1, 'comida': 1, '🤦🏽\\u200d♂️😂👮\\u200d♂️cavani': 1, 'charge': 1, 'economizar': 1, 'caralhooooort': 1, 'https://t.co/wnqic1jtlufé': 1, 'foda': 1, 'fuzil,': 1, 'gostart': 1, 'convenceu': 1, 'botar': 1, 'um!não': 1, 'adianta': 1, 'risada,': 1, 'kkkkkkkkkkkk': 1, 'convocou💥': 1, 'cabeça': 1, 'mauricio': 1, 'simbolo': 1, 'estamos': 1, 'terceira': 1, 'ronaldo=': 1, 'boots': 1, 'seja': 1, 'mano': 1, 'um\"': 1, 'https://t.co/blhp6ogehf': 1, 'poderem': 1, '😔😔': 1, 'desistir': 1, 'contaalguém': 1, 'kkkkkkk': 1, 'https://t.co/yumm7180fm': 1, 'hj': 1, 'usando': 1, 'guarda': 1, 'https://t.co/rqmkymov15': 1, 'melhorrt': 1, 'asics': 1, 'tiro': 1, 'lanchar': 1, 'ni': 1, 'lc': 1, 'protestar': 1, 'https://t.co/mhd1nf8abbe': 1, 'deixa': 1, '\"mesmo': 1, 'controle': 1, 'vapormax': 1, 'alto,': 1, 'https://t.co/gbfibfcnlj': 1, 'joinville,': 1, 'loja.em': 1, 'sabe,': 1, 'https://t.co/paapfthbkzvans': 1, '0.01,': 1, '✔️😱': 1, 'puma': 1, 'assim.': 1, 'kk': 1, 'meses': 1, 'salário.': 1, 'melhor': 1, 'sofre': 1, 'cansado': 1, '2020:': 1, 'brabãoooo🤣🤣🤣rt': 1, '(gosto)': 1, 'https://t.co/d74czfq0mqdeixei': 1, 'pé': 1, '13': 1, 'espera': 1, 'oin': 1, 'fortnite': 1, '💰r$59,99': 1, 'tamanhos': 1, 'meias': 1, 'pastel,': 1, 'scott': 1, 'peças': 1, 'boca': 1, 'ces': 1, 'camisetas': 1, 'ewww,': 1, 'https://t.co/bhfsnqdes9': 1, 'fornecidas': 1, 'nike?independente': 1, 'nico-nico-niii': 1, '🤑rt': 1, 'abraço': 1, 'arroz': 1, 'for': 1, '😥rt': 1, 'der': 1, 'porra': 1, 'josh': 1, 'dedos!esse': 1, 'lambuja': 1, 'unhas': 1, 'realmente': 1, '🤡': 1, 'anos,': 1, 'creme': 1, 'parece': 1, 'https://t.co/2zt5femc4jrt': 1, 'brinco,': 1, 'peita': 1, 'transparência,': 1, 'onde': 1, 'berma...': 1, 'consumidor': 1, 'balenciaga': 1, 'pública': 1, '2014,': 1, 'música': 1, 'retoma…rt': 1, 'segundo': 1, '!': 1, 'sp': 1, 'agua': 1, 'ultraboost': 1, 'combina': 1, 'nossa,': 1, 'bestart': 1, 'brasil.': 1, 'deus': 1, 'personalização': 1, 'votantes': 1, 'anos': 1, 'airforce': 1, 'pr…': 1, 'diria': 1, 'muito.nike': 1, 'tão': 1, 'duas': 1, 'passa,': 1, 'grupo': 1, '🏕️': 1, 'atualmente': 1, 'permitir.rt': 1, 'dourada': 1, 'masculina': 1, 'nelson,': 1, 'compras': 1, 'biblioteca': 1, 'si…quero': 1, '50%': 1, 'puma...': 1, 'aquirt': 1, 'vidart': 1, 'prefere': 1, 'https://t.co/hzhiyzwtjort': 1, 'us': 1, 'cada': 1, '992040410rt': 1, 'confiança': 1, '🌎': 1, 'mano,': 1, 'bateu': 1, 'livro': 1, 'joyride': 1, 'falou': 1, 'mensagem!': 1, 'todos,': 1, '“relevância”': 1, 'be': 1, 'piercing,': 1, 'marcas': 1, 'promojooheon': 1, 'brasileiros': 1, 'exclusiva': 1, 'liga?': 1, 'eu....rt': 1, 'frete': 1, 'working': 1, 'merda!': 1, 'faremos': 1, 'tirou': 1, 'plzclaramente': 1, 'brasileiro': 1, 'surpreendo': 1, '57': 1, 'filha': 1, '🙏🏼': 1, 'pp': 1, 'treine': 1, 'esperamos': 1, 'espreitar': 1, 'pré': 1, '....': 1, 'nick': 1, 'saber': 1, 'https://t.co/1injfivvllkkkkkkkk': 1, 'so': 1, 'oraganhou': 1, 'h…é': 1, 'local': 1, 'existe': 1, 'comort': 1, 'sim,': 1, 'https://t.co/tlsy…na': 1, 'seguida': 1, 'bomrt': 1, 'variadoa': 1, 'melhoraria': 1, 'bonita': 1, 'drake': 1, 'difícil': 1, 'moletom,': 1, 'feia': 1, 'travis': 1, 'perguntando': 1, 'entregas': 1, 'live': 1, 'estou': 1, 'homem': 1, 'pois:': 1, 'bk': 1, 'enquanto': 1, 'sabem': 1, 'tb,': 1, 'pega': 1, 'bonitinho,': 1}\n"
     ]
    }
   ],
   "source": [
    "dicionario_indiferente = {}\n",
    "for a,i in freq_abs_indiferente.items():\n",
    "    prob = i\n",
    "    dicionario_indiferente[a] = prob\n",
    "    \n",
    "print(dicionario_indiferente)"
   ]
  },
  {
   "cell_type": "markdown",
   "metadata": {},
   "source": [
    "Agora com os dicionários prontos estamos mais próximos de calcular as probabilidades!\n",
    "\n",
    "Entretanto, temos um problema!\n",
    "\n",
    "**E quando os tweets que chegarem tiverem palavras que não estão dentro da nossa base de Treinamento?**\n",
    "\n",
    "A probabilidade daquela palavra ser de elogio/indiferente/crítica seria 0 e tornaria toda a probabilidade do tweet de ser classificado como elogio/indiferente/crítica 0 também!\n",
    "\n",
    "Para que isso não ocorra, vamos fazer a suaviação de Laplace Smoothing! Essa suavização seria adicionar 1 a toda conta para que nunca seja 0. Para balancear e a probabilidade da palavra nunca ser maior que 1, adicionaremos o número de palavras possíveis ao divisor. Dessa forma, teremos:\n",
    "\n",
    "$$P(palavra|Elogio)=\\frac{A + 1}{B + C}$$\n",
    "\n",
    "_onde:_\n",
    "\n",
    "**A: número de vezes que a palavra aparece**\n",
    "\n",
    "**B: número de palavras em Elogio**\n",
    "\n",
    "**C: palavras totais dos tweets que não se repetem**\n",
    "\n",
    "\n",
    "Agora, vamos calcular essa frequências!"
   ]
  },
  {
   "cell_type": "code",
   "execution_count": 24,
   "metadata": {},
   "outputs": [
    {
     "name": "stdout",
     "output_type": "stream",
     "text": [
      "O número de palavras de tweets sem repetição será: 2315\n",
      "O número de palavras de elogio com repetição será: 2199\n",
      "O número de palavras de crítica com repetição será: 1824\n",
      "O número de palavras de indiferente com repetição será: 2831\n"
     ]
    }
   ],
   "source": [
    "# O número de palavras sem repetição no total \n",
    "n_palavras_tweets_sem_repeticao = len(freq_abs_tweets)\n",
    "\n",
    "print('O número de palavras de tweets sem repetição será: {0}'.format(n_palavras_tweets_sem_repeticao))\n",
    "\n",
    "# Total de palavras do elogio com repetição\n",
    "n_palavras_elogio_com_repeticao = len(serie_elogio)\n",
    " \n",
    "print('O número de palavras de elogio com repetição será: {0}'.format(n_palavras_elogio_com_repeticao))\n",
    "\n",
    "# Total de palavras do crítica com repetição\n",
    "n_palavras_critica_com_repeticao = len(serie_critica)\n",
    "\n",
    "print('O número de palavras de crítica com repetição será: {0}'.format(n_palavras_critica_com_repeticao))\n",
    "\n",
    "# Total de palavras indiferente com repetição\n",
    "n_palavras_indiferente_com_repeticao = len(serie_indiferente)\n",
    "\n",
    "print('O número de palavras de indiferente com repetição será: {0}'.format(n_palavras_indiferente_com_repeticao))"
   ]
  },
  {
   "cell_type": "markdown",
   "metadata": {},
   "source": [
    "Esses números serão utilizados mais tarde para o cálculo das probabilidades!"
   ]
  },
  {
   "cell_type": "markdown",
   "metadata": {},
   "source": [
    "___\n",
    "# Verificando a performance do Classificador\n",
    "\n",
    "Agora vamos testar o classificador com a base de Testes."
   ]
  },
  {
   "cell_type": "code",
   "execution_count": 25,
   "metadata": {},
   "outputs": [
    {
     "name": "stdout",
     "output_type": "stream",
     "text": [
      "0      @vicebrasil @nike @heinekenbr cortem seus patr...\n",
      "1      várias camisas de time por 100 conto no site d...\n",
      "2      @heinekenbr @backtothewar @vicebrasil @nike le...\n",
      "3                    @millenaolv com ele te sequestrando\n",
      "4      vou essa semana no shopping pegar meu tênis da...\n",
      "                             ...                        \n",
      "284    vocês citam meu nome pra ter like, enquanto eu...\n",
      "285    porra a nike me surpreendeu, comprei o tênis n...\n",
      "286                                   @leh_jung eutambem\n",
      "287    a nike achando q eu não ia conseguir pegar o t...\n",
      "288    rt @sucessadaaa: em busca do meu sonho 🙌🏻🚀 htt...\n",
      "Name: Teste, Length: 289, dtype: object\n"
     ]
    }
   ],
   "source": [
    "test_data = test['Teste']\n",
    "print(test_data)"
   ]
  },
  {
   "cell_type": "code",
   "execution_count": 26,
   "metadata": {},
   "outputs": [
    {
     "name": "stdout",
     "output_type": "stream",
     "text": [
      "[[{'cortem': 0.00022153300841825432, 'seus': 0.00022153300841825432, 'patrocínios.': 0.00022153300841825432, 'é': 0.00974745237040319, 'o': 0.007310589277802392, 'mínimo': 0.00044306601683650863, 'que': 0.00930438635356668, 'povo': 0.00022153300841825432, 'brasileiro': 0.00022153300841825432, 'de': 0.01284891448825875, 'bem': 0.00044306601683650863, 'sustenta': 0.00022153300841825432, 'suas': 0.00022153300841825432, 'marcas': 0.00022153300841825432, 'espera.': 0.00022153300841825432, 'lixo': 0.00022153300841825432, 'terrorista!': 0.00022153300841825432, '#boicote': 0.00022153300841825432, 'https://t.co/n7silhqxke': 0.00022153300841825432}, 1.8842379007049236e-63], [{'cortem': 0.000194325689856199, 'seus': 0.000194325689856199, 'patrocínios.': 0.000194325689856199, 'é': 0.006412747765254567, 'o': 0.011076564321803343, 'mínimo': 0.000194325689856199, 'que': 0.012436844150796735, 'povo': 0.000388651379712398, 'brasileiro': 0.000388651379712398, 'de': 0.016323357947920714, 'bem': 0.000582977069568597, 'sustenta': 0.000194325689856199, 'suas': 0.000194325689856199, 'marcas': 0.000388651379712398, 'espera.': 0.000194325689856199, 'lixo': 0.000388651379712398, 'terrorista!': 0.000194325689856199, '#boicote': 0.000194325689856199, 'https://t.co/n7silhqxke': 0.000194325689856199}, 5.508521382270806e-63], [{'cortem': 0.00024160425223483932, 'seus': 0.0009664170089393573, 'patrocínios.': 0.00024160425223483932, 'é': 0.006040106305870983, 'o': 0.006523314810340662, 'mínimo': 0.00048320850446967865, 'que': 0.01135539985503745, 'povo': 0.00024160425223483932, 'brasileiro': 0.000724812756704518, 'de': 0.012321816863976806, 'bem': 0.0009664170089393573, 'sustenta': 0.00024160425223483932, 'suas': 0.00048320850446967865, 'marcas': 0.00024160425223483932, 'espera.': 0.00024160425223483932, 'lixo': 0.000724812756704518, 'terrorista!': 0.00024160425223483932, '#boicote': 0.00024160425223483932, 'https://t.co/n7silhqxke': 0.00024160425223483932}, 4.641757844040504e-61]]\n"
     ]
    }
   ],
   "source": [
    "# tweets_classificados = ['Elogio','Elogio','Crítica',....]\n",
    "tweets_classificados = []\n",
    "\n",
    "# Lista em que serão adicionados os tweets completos\n",
    "tweets_lista = []\n",
    "\n",
    "# Percorrendo todos os tweets do data frame\n",
    "for i in test_data:\n",
    "    # Lista que contém as probabilidades\n",
    "    lista_frase = [[{}], [{}], [{}]]\n",
    "    # Utilizando a função para limpeza dos tweets\n",
    "    cleanup_string_teste = cleanup(i.lower())\n",
    "    # Para cada tweet já limpo:\n",
    "    for p in cleanup_string_teste.split():\n",
    "        # Calculando a probabilidade de cada palavra ser eleogio, indiferente ou crítica utilizando Laplace Smoothing\n",
    "        prob_e = (dicionario_elogio.get(p,0) +1)/(n_palavras_elogio_com_repeticao + n_palavras_tweets_sem_repeticao)\n",
    "        prob_i = (dicionario_indiferente.get(p,0) +1)/(n_palavras_indiferente_com_repeticao + n_palavras_tweets_sem_repeticao)\n",
    "        prob_c = (dicionario_critica.get(p,0) +1)/(n_palavras_critica_com_repeticao + n_palavras_tweets_sem_repeticao)\n",
    "        # Adicionando a probabilidade calculada para cada palavra\n",
    "        lista_frase[0][0][p] = prob_e\n",
    "        lista_frase[1][0][p] = prob_i\n",
    "        lista_frase[2][0][p] = prob_c\n",
    "    tweets_lista.append(lista_frase)\n",
    "    lista_frase = []\n",
    "\n",
    "# Para cada tweet da lista:\n",
    "for i in tweets_lista:\n",
    "    # Vamos olhar apenas para as probabilidades das palavras (prob_e, prob_i, prob_c)\n",
    "    for p in i:\n",
    "        # Inicialmente, a probabilidade da frase é 1\n",
    "        prob_frase = 1\n",
    "        # Percorrendo o dicionário que armazena as palavras como chave e as respectivas probabilidades como valores\n",
    "        for k,v in p[0].items():\n",
    "            # A probabilidade da frase ser elogio, crítica ou elogio será a multiplicação de todas as probabilidades individuais:\n",
    "            prob_frase *= v\n",
    "        # Por fim, a probabilidade será a probabilidade das palavras multiplicadas multiplicada pela probabilidade \n",
    "        # geral de ser elogio, crítica ou indiferente\n",
    "        prob_frase = prob_frase * lista_prob_geral[i.index(p)]\n",
    "        # Por fim, adicionamos essa probabilidade\n",
    "        p.append(prob_frase)\n",
    "        \n",
    "# Data structure da tweets_lista:\n",
    "# [[[{palavra: prob_e}, prob_frase_e], [{palavra: prob_i}, prob_frase_i], [{palavra: prob_c}, prob_frase_c]], [...]]\n",
    "\n",
    "# Vamos printar um elemento dessa lista para observar o resultado!\n",
    "print(tweets_lista[0])"
   ]
  },
  {
   "cell_type": "markdown",
   "metadata": {},
   "source": [
    "### Observando resultados do nosso Classificador"
   ]
  },
  {
   "cell_type": "code",
   "execution_count": 27,
   "metadata": {},
   "outputs": [
    {
     "data": {
      "text/html": [
       "<div>\n",
       "<style scoped>\n",
       "    .dataframe tbody tr th:only-of-type {\n",
       "        vertical-align: middle;\n",
       "    }\n",
       "\n",
       "    .dataframe tbody tr th {\n",
       "        vertical-align: top;\n",
       "    }\n",
       "\n",
       "    .dataframe thead th {\n",
       "        text-align: right;\n",
       "    }\n",
       "</style>\n",
       "<table border=\"1\" class=\"dataframe\">\n",
       "  <thead>\n",
       "    <tr style=\"text-align: right;\">\n",
       "      <th></th>\n",
       "      <th>Teste</th>\n",
       "      <th>Classificação</th>\n",
       "      <th>Modelo</th>\n",
       "    </tr>\n",
       "  </thead>\n",
       "  <tbody>\n",
       "    <tr>\n",
       "      <td>0</td>\n",
       "      <td>@vicebrasil @nike @heinekenbr cortem seus patr...</td>\n",
       "      <td>Crítica</td>\n",
       "      <td>Crítica</td>\n",
       "    </tr>\n",
       "    <tr>\n",
       "      <td>1</td>\n",
       "      <td>várias camisas de time por 100 conto no site d...</td>\n",
       "      <td>Elogio</td>\n",
       "      <td>Elogio</td>\n",
       "    </tr>\n",
       "    <tr>\n",
       "      <td>2</td>\n",
       "      <td>@heinekenbr @backtothewar @vicebrasil @nike le...</td>\n",
       "      <td>Indiferente</td>\n",
       "      <td>Crítica</td>\n",
       "    </tr>\n",
       "    <tr>\n",
       "      <td>3</td>\n",
       "      <td>@millenaolv com ele te sequestrando</td>\n",
       "      <td>Indiferente</td>\n",
       "      <td>Elogio</td>\n",
       "    </tr>\n",
       "    <tr>\n",
       "      <td>4</td>\n",
       "      <td>vou essa semana no shopping pegar meu tênis da...</td>\n",
       "      <td>Elogio</td>\n",
       "      <td>Elogio</td>\n",
       "    </tr>\n",
       "    <tr>\n",
       "      <td>5</td>\n",
       "      <td>@barbaravxx deve ser bom, eu já usei nike run ...</td>\n",
       "      <td>Elogio</td>\n",
       "      <td>Crítica</td>\n",
       "    </tr>\n",
       "    <tr>\n",
       "      <td>6</td>\n",
       "      <td>@yoongeesus @parkballet tá mas isso não faria ...</td>\n",
       "      <td>Crítica</td>\n",
       "      <td>Crítica</td>\n",
       "    </tr>\n",
       "    <tr>\n",
       "      <td>7</td>\n",
       "      <td>nós ama nike air</td>\n",
       "      <td>Elogio</td>\n",
       "      <td>Elogio</td>\n",
       "    </tr>\n",
       "    <tr>\n",
       "      <td>8</td>\n",
       "      <td>vou mandar a real p vcs eu to cansado de trein...</td>\n",
       "      <td>Crítica</td>\n",
       "      <td>Indiferente</td>\n",
       "    </tr>\n",
       "    <tr>\n",
       "      <td>9</td>\n",
       "      <td>aaaaaaaaa nike em promoção to enlouquecendo aqui</td>\n",
       "      <td>Elogio</td>\n",
       "      <td>Elogio</td>\n",
       "    </tr>\n",
       "    <tr>\n",
       "      <td>10</td>\n",
       "      <td>não sei se estou vivendo ou só dando rt nas pá...</td>\n",
       "      <td>Elogio</td>\n",
       "      <td>Elogio</td>\n",
       "    </tr>\n",
       "    <tr>\n",
       "      <td>11</td>\n",
       "      <td>rt @emitecampos: @gm_rato nike e racista tem a...</td>\n",
       "      <td>Crítica</td>\n",
       "      <td>Crítica</td>\n",
       "    </tr>\n",
       "    <tr>\n",
       "      <td>12</td>\n",
       "      <td>estudar/trabalhar pra ter que dormir de nike e...</td>\n",
       "      <td>Crítica</td>\n",
       "      <td>Crítica</td>\n",
       "    </tr>\n",
       "    <tr>\n",
       "      <td>13</td>\n",
       "      <td>▶ tênis nike zoom kobe 4 protro pink\\n\\n👟 tama...</td>\n",
       "      <td>Indiferente</td>\n",
       "      <td>Indiferente</td>\n",
       "    </tr>\n",
       "    <tr>\n",
       "      <td>14</td>\n",
       "      <td>comprei 2 tenis na nike sábado.\\n\\ntempo de en...</td>\n",
       "      <td>Indiferente</td>\n",
       "      <td>Elogio</td>\n",
       "    </tr>\n",
       "    <tr>\n",
       "      <td>15</td>\n",
       "      <td>rt @bryan_robert7: a nike me deixa fraco pprt 😍</td>\n",
       "      <td>Elogio</td>\n",
       "      <td>Elogio</td>\n",
       "    </tr>\n",
       "    <tr>\n",
       "      <td>16</td>\n",
       "      <td>alo gremio ta na hora de sair da umbro e ir pr...</td>\n",
       "      <td>Elogio</td>\n",
       "      <td>Crítica</td>\n",
       "    </tr>\n",
       "    <tr>\n",
       "      <td>17</td>\n",
       "      <td>rt @delary99: se não fosse minhas contas só an...</td>\n",
       "      <td>Elogio</td>\n",
       "      <td>Crítica</td>\n",
       "    </tr>\n",
       "    <tr>\n",
       "      <td>18</td>\n",
       "      <td>rt @lari_snunes: site da nike em promoção 😫😫😫🥺...</td>\n",
       "      <td>Elogio</td>\n",
       "      <td>Elogio</td>\n",
       "    </tr>\n",
       "    <tr>\n",
       "      <td>19</td>\n",
       "      <td>sandália do jesus da nike https://t.co/dnheuqm9gh</td>\n",
       "      <td>Indiferente</td>\n",
       "      <td>Elogio</td>\n",
       "    </tr>\n",
       "  </tbody>\n",
       "</table>\n",
       "</div>"
      ],
      "text/plain": [
       "                                                Teste Classificação  \\\n",
       "0   @vicebrasil @nike @heinekenbr cortem seus patr...       Crítica   \n",
       "1   várias camisas de time por 100 conto no site d...        Elogio   \n",
       "2   @heinekenbr @backtothewar @vicebrasil @nike le...   Indiferente   \n",
       "3                 @millenaolv com ele te sequestrando   Indiferente   \n",
       "4   vou essa semana no shopping pegar meu tênis da...        Elogio   \n",
       "5   @barbaravxx deve ser bom, eu já usei nike run ...        Elogio   \n",
       "6   @yoongeesus @parkballet tá mas isso não faria ...       Crítica   \n",
       "7                                    nós ama nike air        Elogio   \n",
       "8   vou mandar a real p vcs eu to cansado de trein...       Crítica   \n",
       "9    aaaaaaaaa nike em promoção to enlouquecendo aqui        Elogio   \n",
       "10  não sei se estou vivendo ou só dando rt nas pá...        Elogio   \n",
       "11  rt @emitecampos: @gm_rato nike e racista tem a...       Crítica   \n",
       "12  estudar/trabalhar pra ter que dormir de nike e...       Crítica   \n",
       "13  ▶ tênis nike zoom kobe 4 protro pink\\n\\n👟 tama...   Indiferente   \n",
       "14  comprei 2 tenis na nike sábado.\\n\\ntempo de en...   Indiferente   \n",
       "15    rt @bryan_robert7: a nike me deixa fraco pprt 😍        Elogio   \n",
       "16  alo gremio ta na hora de sair da umbro e ir pr...        Elogio   \n",
       "17  rt @delary99: se não fosse minhas contas só an...        Elogio   \n",
       "18  rt @lari_snunes: site da nike em promoção 😫😫😫🥺...        Elogio   \n",
       "19  sandália do jesus da nike https://t.co/dnheuqm9gh   Indiferente   \n",
       "\n",
       "         Modelo  \n",
       "0       Crítica  \n",
       "1        Elogio  \n",
       "2       Crítica  \n",
       "3        Elogio  \n",
       "4        Elogio  \n",
       "5       Crítica  \n",
       "6       Crítica  \n",
       "7        Elogio  \n",
       "8   Indiferente  \n",
       "9        Elogio  \n",
       "10       Elogio  \n",
       "11      Crítica  \n",
       "12      Crítica  \n",
       "13  Indiferente  \n",
       "14       Elogio  \n",
       "15       Elogio  \n",
       "16      Crítica  \n",
       "17      Crítica  \n",
       "18       Elogio  \n",
       "19       Elogio  "
      ]
     },
     "execution_count": 27,
     "metadata": {},
     "output_type": "execute_result"
    }
   ],
   "source": [
    "# Para todos os elementos da tweets_lista:\n",
    "for i in range(len(tweets_lista)):\n",
    "    # Observando quais são os índices dos elementos: (tweets_lista[i][0][1], tweets_lista[i][1][1], tweets_lista[i][2][1])\n",
    "    # Se a probabilidade da frase de ser elogio for maior que a da crítica e a da indiferente:\n",
    "    if (tweets_lista[i][0][1] > tweets_lista[i][1][1]) & (tweets_lista[i][0][1] > tweets_lista[i][2][1]):\n",
    "         # Ela é classificada como elogio\n",
    "        test.loc[i,'Modelo'] = 'Elogio'\n",
    "    # Se a probabilidade da frase de ser indiferente for maior que de elogio e da crítica:\n",
    "    elif (tweets_lista[i][1][1] > tweets_lista[i][0][1]) & (tweets_lista[i][1][1] > tweets_lista[i][2][1]):\n",
    "        # Ela é classificada como indiferente\n",
    "        test.loc[i,'Modelo'] = \"Indiferente\"\n",
    "    # Se a probabilidade da frase de ser crítica for maior que de elogio e da crítica:\n",
    "    else:\n",
    "        # Ela é classificada como crítica\n",
    "        test.loc[i,'Modelo'] = 'Crítica'\n",
    "\n",
    "# Observando o nosso novo data frame:\n",
    "test.head(20)"
   ]
  },
  {
   "cell_type": "markdown",
   "metadata": {},
   "source": [
    "### Mas qual é a porcentagem de acerto do nosso classificador?\n",
    "\n",
    "Vamos descobrir!"
   ]
  },
  {
   "cell_type": "code",
   "execution_count": 28,
   "metadata": {},
   "outputs": [
    {
     "name": "stdout",
     "output_type": "stream",
     "text": [
      "O acerto do nosso classificador é de: 53.979238754325266\n"
     ]
    }
   ],
   "source": [
    "# Variável que guarda a quantidade de acerto\n",
    "correto = 0\n",
    "\n",
    "# Para todos as linhas do data frame\n",
    "for i in range(len(test)):\n",
    "    # Se a classificação for igual a classificação dada pelo nosso classificador:\n",
    "    if test.loc[i, 'Classificação'] == test.loc[i, 'Modelo']:\n",
    "        # Soma 1 a varíavel!\n",
    "        correto += 1\n",
    "        \n",
    "# Imprimindo a porcentagem de acerto\n",
    "porcentagem = (correto/len(test))*100\n",
    "print('O acerto do nosso classificador é de: {0}'.format(porcentagem))"
   ]
  },
  {
   "cell_type": "markdown",
   "metadata": {},
   "source": [
    "___\n",
    "# Concluindo"
   ]
  },
  {
   "cell_type": "markdown",
   "metadata": {},
   "source": [
    "### Propondo outras limpezas e transformações que não afetem a qualidade da informação ou classificação\n",
    "\n",
    "Com o objetivo de melhorar a porcentagem de acerto do nosso classificador, buscamos formas de limpar a nossa base de dado. Uma das limpezas que poderiam ser eficazes seria a eliminação das chamadas _stopwords_.\n",
    "\n",
    "Essas _stopwords_ são palavras como \"da, que, e, para\" que nós, inicialmente, entendemos como palavras que não provacam diferença na classificação geral do tweet. Portanto, fizemos nosso primeiro modelo partindo dessa suposição e utilizando uma função que retirasse todas as _stopwords_. Após todas as classificações, a acurácia do nosso classificador ficou em torno de 46%. Resolvemos, então, deletar a função e considerar essas palavras já que ela alterava a qualidade da informação."
   ]
  },
  {
   "cell_type": "markdown",
   "metadata": {},
   "source": [
    "### Propondo diferentes cenários para Naïve Bayes fora do contexto do projeto"
   ]
  },
  {
   "cell_type": "markdown",
   "metadata": {},
   "source": [
    "O Naïve-Bayes é um teorema que deve ser utilizado quando se tem um conjunto de treinamento grande e quando os atributos que descrevem as diferentes classificações forem **condicionalmente independentes** dada a classificação.\n",
    "\n",
    "No caso da classificação dos tweets temos essas duas condições: utilizamos uma base de dados de aproximadamente 750 tweets e consideramos que a probabilidade das palavras dado o tweet eram independentes.\n",
    "\n",
    "Podemos utilizar esse classificador de diversas formas. Uma possível utilização seria usar o classificador para discorrer sobre a probabilidade de um tenista ir treinar ou não dada as condições ambientes (considerando, nesse caso, todas independentes). Esse tenista armazena todo dia essas condições e indica se foi ou não treinar. A probabilidade dele treinar certo dia dado que está nublado, a temperatura está elevada,  a umidade relativa do ar está baixa e velocidade do vento está alta pode ser calculada com base na análise do classificador Naïve-Bayes que utiizará a base de dados armazenada.\n",
    "\n",
    "Outro exemplo seria a utilização desse teorema como uma possibilidade de diagnosticar um paciente. Supondo que um médico armazena, em uma base de dados, os sintomas de todos seus pacientes e seus respectivos diagnósticos. Considerando os sintomas independentes, é possível calcular o provável diagnóstico de um novo paciente.\n",
    "\n",
    "\n",
    "\n",
    "_referência:_ http://www.eletrica.ufpr.br/ufpr2/professor/36/TE808/5-NaiveBayes-AM.pdf"
   ]
  },
  {
   "cell_type": "markdown",
   "metadata": {},
   "source": [
    "### Montando um dashboard que realiza análise de sentimento e visualiza estes dados"
   ]
  },
  {
   "cell_type": "code",
   "execution_count": 29,
   "metadata": {},
   "outputs": [
    {
     "data": {
      "text/html": [
       "<div>\n",
       "<style scoped>\n",
       "    .dataframe tbody tr th:only-of-type {\n",
       "        vertical-align: middle;\n",
       "    }\n",
       "\n",
       "    .dataframe tbody tr th {\n",
       "        vertical-align: top;\n",
       "    }\n",
       "\n",
       "    .dataframe thead th {\n",
       "        text-align: right;\n",
       "    }\n",
       "</style>\n",
       "<table border=\"1\" class=\"dataframe\">\n",
       "  <thead>\n",
       "    <tr style=\"text-align: right;\">\n",
       "      <th>Modelo</th>\n",
       "      <th>Crítica</th>\n",
       "      <th>Elogio</th>\n",
       "      <th>Indiferente</th>\n",
       "    </tr>\n",
       "    <tr>\n",
       "      <th>Classificação</th>\n",
       "      <th></th>\n",
       "      <th></th>\n",
       "      <th></th>\n",
       "    </tr>\n",
       "  </thead>\n",
       "  <tbody>\n",
       "    <tr>\n",
       "      <td>Crítica</td>\n",
       "      <td>40</td>\n",
       "      <td>38</td>\n",
       "      <td>9</td>\n",
       "    </tr>\n",
       "    <tr>\n",
       "      <td>Elogio</td>\n",
       "      <td>21</td>\n",
       "      <td>72</td>\n",
       "      <td>6</td>\n",
       "    </tr>\n",
       "    <tr>\n",
       "      <td>Indiferente</td>\n",
       "      <td>19</td>\n",
       "      <td>40</td>\n",
       "      <td>44</td>\n",
       "    </tr>\n",
       "  </tbody>\n",
       "</table>\n",
       "</div>"
      ],
      "text/plain": [
       "Modelo         Crítica  Elogio  Indiferente\n",
       "Classificação                              \n",
       "Crítica             40      38            9\n",
       "Elogio              21      72            6\n",
       "Indiferente         19      40           44"
      ]
     },
     "execution_count": 29,
     "metadata": {},
     "output_type": "execute_result"
    }
   ],
   "source": [
    "# Tabela que mostra a comparação entre a nossa classificação e a classificação do classificador\n",
    "tabela_comparativa = pd.crosstab(test['Classificação'], test['Modelo'])\n",
    "tabela_comparativa"
   ]
  },
  {
   "cell_type": "code",
   "execution_count": 30,
   "metadata": {},
   "outputs": [
    {
     "data": {
      "image/png": "[encoded data removed]",
      "text/plain": [
       "<Figure size 432x288 with 1 Axes>"
      ]
     },
     "metadata": {
      "needs_background": "light"
     },
     "output_type": "display_data"
    }
   ],
   "source": [
    "# Agora vamos plotar um gráfico com esses dados!\n",
    "grupos = 3\n",
    "indice = np.arange(grupos)\n",
    "\n",
    "modelo_critica = (40, 21, 19)\n",
    "modelo_elogio = (38, 72, 40)\n",
    "modelo_indiferente = (9, 6, 44)\n",
    "fig, ax = plt.subplots()\n",
    "bar_larg = 0.2\n",
    "transp = 0.7\n",
    "plt.bar(indice, modelo_critica, bar_larg, alpha = transp, edgecolor = 'k', color = \"salmon\", label = 'Modelo Crítica')\n",
    "plt.bar(indice + bar_larg, modelo_elogio, bar_larg, alpha = transp, edgecolor ='k', color = \"yellow\", label = 'Modelo Elogio')\n",
    "plt.bar(indice + bar_larg + bar_larg, modelo_indiferente, bar_larg, alpha = transp, edgecolor ='k', color = \"cyan\", label = 'Modelo Indiferente')\n",
    "\n",
    "plt.xlabel('Classificado por nós') \n",
    "plt.ylabel('Quantidade') \n",
    "plt.title('Comparando as classificações') \n",
    "plt.xticks(indice + bar_larg, ('Crítica', 'Elogio', 'Indiferente')) \n",
    "plt.legend(loc='upper left', bbox_to_anchor=(0, -0.15), shadow=True, ncol=3)\n",
    "plt.tight_layout() \n",
    "plt.show()"
   ]
  },
  {
   "cell_type": "code",
   "execution_count": 31,
   "metadata": {},
   "outputs": [
    {
     "data": {
      "image/png": "[encoded data removed]",
      "text/plain": [
       "<Figure size 720x720 with 1 Axes>"
      ]
     },
     "metadata": {},
     "output_type": "display_data"
    },
    {
     "data": {
      "image/png": "[encoded data removed]",
      "text/plain": [
       "<Figure size 720x720 with 1 Axes>"
      ]
     },
     "metadata": {},
     "output_type": "display_data"
    },
    {
     "data": {
      "image/png": "[encoded data removed]",
      "text/plain": [
       "<Figure size 720x720 with 1 Axes>"
      ]
     },
     "metadata": {},
     "output_type": "display_data"
    }
   ],
   "source": [
    "# Agora vamos plotar um gráfico com esses dados!\n",
    "# Para ter melhor print\n",
    "from IPython.display import display\n",
    "\n",
    "plt.figure(figsize=(10, 10))\n",
    "\n",
    "\n",
    "# Gráfico Classificado por nós como Elogio\n",
    "labels = ['Modelo Elogio', 'Modelo Crítica', 'Modelo Indiferente']\n",
    "titulos = [72, 21, 6]\n",
    "cores = ['yellow', 'salmon', 'cyan']\n",
    "explode = (0.1, 0.1, 0.1)  # somente explode primeiro pedaço\n",
    "total = sum(titulos)\n",
    "\n",
    "plt.subplot(231)\n",
    "plt.pie(titulos, explode = explode, labels = labels, colors = cores, autopct = '%1.1f%%', shadow = True, startangle=90)\n",
    "# Determina que as proporções sejam iguais ('equal') de modo a desenhar o círculo\n",
    "plt.axis('equal') \n",
    "plt.title('Classificado por nós como Elogio')\n",
    "plt.show()\n",
    "\n",
    "# Gráfico Classificado por nós como Crítica\n",
    "labels = ['Modelo Elogio', 'Modelo Crítica', 'Modelo Indiferente']\n",
    "titulos = [38, 40, 9]\n",
    "cores = ['yellow', 'salmon', 'cyan']\n",
    "explode = (0.1, 0.1, 0.1)  # somente explode primeiro pedaço\n",
    "total = sum(titulos)\n",
    "\n",
    "plt.figure(figsize=(10, 10))\n",
    "plt.subplot(233)\n",
    "plt.pie(titulos, explode = explode, labels = labels, colors = cores, autopct = '%1.1f%%', shadow = True, startangle=90)\n",
    "# Determina que as proporções sejam iguais ('equal') de modo a desenhar o círculo\n",
    "plt.axis('equal') \n",
    "plt.title('Classificado por nós como Crítica')\n",
    "plt.show()\n",
    "\n",
    "# Gráfico Classificado por nós como Indiferente\n",
    "labels = ['Modelo Elogio', 'Modelo Crítica', 'Modelo Indiferente']\n",
    "titulos = [40, 19, 44]\n",
    "cores = ['yellow', 'salmon', 'cyan']\n",
    "explode = (0.1, 0.1, 0.1)  # somente explode primeiro pedaço\n",
    "total = sum(titulos)\n",
    "\n",
    "plt.figure(figsize=(10, 10))\n",
    "plt.subplot(235)\n",
    "plt.pie(titulos, explode = explode, labels = labels, colors = cores, autopct = '%1.1f%%', shadow = True, startangle=90)\n",
    "# Determina que as proporções sejam iguais ('equal') de modo a desenhar o círculo\n",
    "plt.axis('equal') \n",
    "plt.title('Classificado por nós como Indiferente')\n",
    "plt.show()"
   ]
  },
  {
   "cell_type": "markdown",
   "metadata": {},
   "source": [
    "Dos gráficos acima, é possível inferir que o nosso classificador Naïve-Bayes obteve resultados muito próximos em relação aos tweets classificados como elogio. Isso porque o gráfico indica que os tweets classificados por nós como elogio também foram, majoritariamente, classificados pelo nosso modelo como elogio.\n",
    "\n",
    "Alguns tweets julgados como crítica foram classificados pelo Naïve-Bayes como sendo elogio. Como o classificador não consegue compreender ironias e classifica o tweet apenas de acordo  com as probabilidades das palavras que o compõe, é possível que alguns tweets sarcáticos tenham sido classificados como elogio, quando, na verdade, eram críticas.\n",
    "\n",
    "Já nos casos de crítica, o nosso modelo acerta mais que a metade dos tweets, mas comete erros classificando alguns tweets de crítica como elogio. Uma possível causa para isso é que certos tweets de elogio citavam que os produtos da Nike estavam em promoção, e os usuários elogiavam isso. Entretanto, algumas outras vezes apareciam tweets que citavam as promoções, mas continuavam reclamando dos preços altos e esses foram classificados como crítica. No nosso caso, o classificador de Naïve-Bayes não teve a percepção necessária para classificá-los corretamente.\n",
    "\n",
    "Os tweets que foram julgados por nós como indiferentes eram tweets que não apresentavam opinões criticando ou elogiando a marca. Devido a maneira como o classificador Naïve-Bayes funciona, irá depender somente das probabilidades das palavras daquele tweet específico e pode acontecer que as palavras que o compõem sejam mais comuns em tweets de elogio ou crítica. Por conta dessa dificuldade de percepção do classificador, mais da metade dos tweets julgados indiferente por nós foram classificados incorretamente."
   ]
  },
  {
   "cell_type": "markdown",
   "metadata": {},
   "source": [
    "### Sugerindo e explicando melhorias reais com indicações concretas de como implementar\n",
    "\n",
    "O classificador Naïve-Bayes desconsidera as posições das palavras dentro das frases, calculando apenas as probabilidades individuais de cada palavra. Dessa forma, se ao invés de calcular a probabilidade da palavra sozinha, calcular a probabilidade desse bigrama aparecer, a classificação da frase como um todo poderia se tornar mais eficiente. Isso porque caso apareça as mesmas duas palavras seguidas em diferentes tweets, aproxima a ideia de que esse tweets devem ter a mesma classificação. Ou seja, a probabilidade a ser calculada pelo teorema deve fazer com que os tweets sejam classificadas pelo classificador com a mesma categoria.\n",
    "\n",
    "_referência:_ https://www.diva-portal.org/smash/get/diva2:839705/FULLTEXT01.pdf"
   ]
  },
  {
   "cell_type": "markdown",
   "metadata": {},
   "source": [
    "___\n",
    "## Aperfeiçoamento:\n",
    "\n",
    "Os trabalhos vão evoluir em conceito dependendo da quantidade de itens avançados:\n",
    "\n",
    "* Limpar: \\n, :, \", ', (, ), etc SEM remover emojis\n",
    "* Corrigir separação de espaços entre palavras e emojis ou entre emojis e emojis\n",
    "* Propor outras limpezas e transformações que não afetem a qualidade da informação ou classificação\n",
    "* Criar categorias intermediárias de relevância baseadas na probabilidade: ex.: muito relevante, relevante, neutro, irrelevante, muito irrelevante (3 categorias: C, mais categorias conta para B) \n",
    "* Explicar por que não posso usar o próprio classificador para gerar mais amostras de treinamento\n",
    "* Propor diferentes cenários para Naïve Bayes fora do contexto do projeto\n",
    "* Sugerir e explicar melhorias reais com indicações concretas de como implementar (indicar como fazer e indicar material de pesquisa)\n",
    "* Montar um dashboard que realiza análise de sentimento e visualiza estes dados"
   ]
  },
  {
   "cell_type": "markdown",
   "metadata": {},
   "source": [
    "___\n",
    "## Referências"
   ]
  },
  {
   "cell_type": "markdown",
   "metadata": {},
   "source": [
    "[Naive Bayes and Text Classification](https://arxiv.org/pdf/1410.5329.pdf)  **Mais completo**\n",
    "\n",
    "[A practical explanation of a Naive Bayes Classifier](https://monkeylearn.com/blog/practical-explanation-naive-bayes-classifier/) **Mais simples**"
   ]
  }
 ],
 "metadata": {
  "kernelspec": {
   "display_name": "Python 3",
   "language": "python",
   "name": "python3"
  },
  "language_info": {
   "codemirror_mode": {
    "name": "ipython",
    "version": 3
   },
   "file_extension": ".py",
   "mimetype": "text/x-python",
   "name": "python",
   "nbconvert_exporter": "python",
   "pygments_lexer": "ipython3",
   "version": "3.7.4"
  }
 },
 "nbformat": 4,
 "nbformat_minor": 4
}
